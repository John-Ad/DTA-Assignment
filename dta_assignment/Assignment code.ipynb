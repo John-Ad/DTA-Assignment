{
 "cells": [
  {
   "cell_type": "code",
   "execution_count": 1,
   "id": "4c27f52a",
   "metadata": {
    "scrolled": true
   },
   "outputs": [],
   "source": [
    "import pandas as pd\n",
    "import numpy as np\n",
    "import seaborn as sns\n",
    "import matplotlib.pyplot as plt\n",
    "\n",
    "from sklearn import preprocessing\n",
    "from sklearn.preprocessing import StandardScaler\n",
    "from sklearn.model_selection import train_test_split\n",
    "from sklearn.metrics import accuracy_score\n",
    "\n",
    "from sklearn.tree import DecisionTreeClassifier\n",
    "from sklearn.linear_model import LogisticRegression\n",
    "from sklearn.neighbors import KNeighborsClassifier\n",
    "from sklearn import svm\n",
    "\n",
    "import math\n",
    "\n"
   ]
  },
  {
   "cell_type": "code",
   "execution_count": 2,
   "id": "d81709f9",
   "metadata": {},
   "outputs": [
    {
     "data": {
      "text/html": [
       "<div>\n",
       "<style scoped>\n",
       "    .dataframe tbody tr th:only-of-type {\n",
       "        vertical-align: middle;\n",
       "    }\n",
       "\n",
       "    .dataframe tbody tr th {\n",
       "        vertical-align: top;\n",
       "    }\n",
       "\n",
       "    .dataframe thead th {\n",
       "        text-align: right;\n",
       "    }\n",
       "</style>\n",
       "<table border=\"1\" class=\"dataframe\">\n",
       "  <thead>\n",
       "    <tr style=\"text-align: right;\">\n",
       "      <th></th>\n",
       "      <th>Customer ID</th>\n",
       "      <th>Fictional Surname</th>\n",
       "      <th>Age</th>\n",
       "      <th>Gender</th>\n",
       "      <th>Years at address</th>\n",
       "      <th>Employment status</th>\n",
       "      <th>Country</th>\n",
       "      <th>Current debt</th>\n",
       "      <th>Postcode</th>\n",
       "      <th>Income</th>\n",
       "      <th>Own home</th>\n",
       "      <th>CCJs</th>\n",
       "      <th>Loan amount</th>\n",
       "      <th>Outcome</th>\n",
       "    </tr>\n",
       "  </thead>\n",
       "  <tbody>\n",
       "    <tr>\n",
       "      <th>0</th>\n",
       "      <td>945780</td>\n",
       "      <td>Miah</td>\n",
       "      <td>19</td>\n",
       "      <td>F</td>\n",
       "      <td>2</td>\n",
       "      <td>Unemployed</td>\n",
       "      <td>UK</td>\n",
       "      <td>0</td>\n",
       "      <td>TA3 7SH</td>\n",
       "      <td>45500</td>\n",
       "      <td>Rent</td>\n",
       "      <td>1</td>\n",
       "      <td>13234</td>\n",
       "      <td>Paid</td>\n",
       "    </tr>\n",
       "    <tr>\n",
       "      <th>1</th>\n",
       "      <td>747989</td>\n",
       "      <td>Hollis</td>\n",
       "      <td>66</td>\n",
       "      <td>F</td>\n",
       "      <td>13</td>\n",
       "      <td>Unemployed</td>\n",
       "      <td>UK</td>\n",
       "      <td>1080</td>\n",
       "      <td>WV6 8SU</td>\n",
       "      <td>18000</td>\n",
       "      <td>Own</td>\n",
       "      <td>0</td>\n",
       "      <td>5561</td>\n",
       "      <td>Paid</td>\n",
       "    </tr>\n",
       "    <tr>\n",
       "      <th>2</th>\n",
       "      <td>790344</td>\n",
       "      <td>Barker</td>\n",
       "      <td>48</td>\n",
       "      <td>F</td>\n",
       "      <td>4</td>\n",
       "      <td>Self Employed</td>\n",
       "      <td>UK</td>\n",
       "      <td>3690</td>\n",
       "      <td>BT15 5HG</td>\n",
       "      <td>47500</td>\n",
       "      <td>Rent</td>\n",
       "      <td>1</td>\n",
       "      <td>28288</td>\n",
       "      <td>Paid</td>\n",
       "    </tr>\n",
       "    <tr>\n",
       "      <th>3</th>\n",
       "      <td>597668</td>\n",
       "      <td>Titford</td>\n",
       "      <td>67</td>\n",
       "      <td>F</td>\n",
       "      <td>47</td>\n",
       "      <td>Self Employed</td>\n",
       "      <td>UK</td>\n",
       "      <td>6560</td>\n",
       "      <td>GU10 3NH</td>\n",
       "      <td>36000</td>\n",
       "      <td>Mortgage</td>\n",
       "      <td>0</td>\n",
       "      <td>30199</td>\n",
       "      <td>Paid</td>\n",
       "    </tr>\n",
       "    <tr>\n",
       "      <th>4</th>\n",
       "      <td>794971</td>\n",
       "      <td>Berry</td>\n",
       "      <td>70</td>\n",
       "      <td>M</td>\n",
       "      <td>8</td>\n",
       "      <td>Self Employed</td>\n",
       "      <td>UK</td>\n",
       "      <td>9100</td>\n",
       "      <td>GL6 6UB</td>\n",
       "      <td>50500</td>\n",
       "      <td>Own</td>\n",
       "      <td>0</td>\n",
       "      <td>35078</td>\n",
       "      <td>Paid</td>\n",
       "    </tr>\n",
       "  </tbody>\n",
       "</table>\n",
       "</div>"
      ],
      "text/plain": [
       "   Customer ID Fictional Surname  Age Gender  Years at address  \\\n",
       "0       945780              Miah   19      F                 2   \n",
       "1       747989            Hollis   66      F                13   \n",
       "2       790344            Barker   48      F                 4   \n",
       "3       597668           Titford   67      F                47   \n",
       "4       794971             Berry   70      M                 8   \n",
       "\n",
       "  Employment status Country  Current debt  Postcode  Income  Own home  CCJs  \\\n",
       "0        Unemployed      UK             0   TA3 7SH   45500      Rent     1   \n",
       "1        Unemployed      UK          1080   WV6 8SU   18000       Own     0   \n",
       "2     Self Employed      UK          3690  BT15 5HG   47500      Rent     1   \n",
       "3     Self Employed      UK          6560  GU10 3NH   36000  Mortgage     0   \n",
       "4     Self Employed      UK          9100   GL6 6UB   50500       Own     0   \n",
       "\n",
       "   Loan amount Outcome  \n",
       "0        13234    Paid  \n",
       "1         5561    Paid  \n",
       "2        28288    Paid  \n",
       "3        30199    Paid  \n",
       "4        35078    Paid  "
      ]
     },
     "execution_count": 2,
     "metadata": {},
     "output_type": "execute_result"
    }
   ],
   "source": [
    "# import data\n",
    "\n",
    "loanData=pd.read_csv('./loans.csv')\n",
    "\n",
    "# display first 5 records\n",
    "\n",
    "loanData.head(5)"
   ]
  },
  {
   "cell_type": "code",
   "execution_count": 3,
   "id": "fd668070",
   "metadata": {},
   "outputs": [
    {
     "data": {
      "text/plain": [
       "Customer ID           int64\n",
       "Fictional Surname    object\n",
       "Age                   int64\n",
       "Gender               object\n",
       "Years at address      int64\n",
       "Employment status    object\n",
       "Country              object\n",
       "Current debt          int64\n",
       "Postcode             object\n",
       "Income                int64\n",
       "Own home             object\n",
       "CCJs                  int64\n",
       "Loan amount           int64\n",
       "Outcome              object\n",
       "dtype: object"
      ]
     },
     "execution_count": 3,
     "metadata": {},
     "output_type": "execute_result"
    }
   ],
   "source": [
    "# check data types\n",
    "loanData.dtypes"
   ]
  },
  {
   "cell_type": "code",
   "execution_count": 4,
   "id": "890e5997",
   "metadata": {},
   "outputs": [
    {
     "data": {
      "text/plain": [
       "(2000, 14)"
      ]
     },
     "execution_count": 4,
     "metadata": {},
     "output_type": "execute_result"
    }
   ],
   "source": [
    "# check shape\n",
    "loanData.shape"
   ]
  },
  {
   "cell_type": "code",
   "execution_count": 5,
   "id": "c3286c7c",
   "metadata": {},
   "outputs": [],
   "source": [
    "###################################\n",
    "\n",
    "#       DATA PREPARATION\n",
    "\n",
    "###################################"
   ]
  },
  {
   "cell_type": "code",
   "execution_count": 6,
   "id": "7df70cb2",
   "metadata": {},
   "outputs": [
    {
     "data": {
      "text/html": [
       "<div>\n",
       "<style scoped>\n",
       "    .dataframe tbody tr th:only-of-type {\n",
       "        vertical-align: middle;\n",
       "    }\n",
       "\n",
       "    .dataframe tbody tr th {\n",
       "        vertical-align: top;\n",
       "    }\n",
       "\n",
       "    .dataframe thead th {\n",
       "        text-align: right;\n",
       "    }\n",
       "</style>\n",
       "<table border=\"1\" class=\"dataframe\">\n",
       "  <thead>\n",
       "    <tr style=\"text-align: right;\">\n",
       "      <th></th>\n",
       "      <th>Age</th>\n",
       "      <th>Gender</th>\n",
       "      <th>Years at address</th>\n",
       "      <th>Employment status</th>\n",
       "      <th>Current debt</th>\n",
       "      <th>Income</th>\n",
       "      <th>Own home</th>\n",
       "      <th>CCJs</th>\n",
       "      <th>Loan amount</th>\n",
       "      <th>Outcome</th>\n",
       "    </tr>\n",
       "  </thead>\n",
       "  <tbody>\n",
       "    <tr>\n",
       "      <th>0</th>\n",
       "      <td>19</td>\n",
       "      <td>F</td>\n",
       "      <td>2</td>\n",
       "      <td>Unemployed</td>\n",
       "      <td>0</td>\n",
       "      <td>45500</td>\n",
       "      <td>Rent</td>\n",
       "      <td>1</td>\n",
       "      <td>13234</td>\n",
       "      <td>Paid</td>\n",
       "    </tr>\n",
       "    <tr>\n",
       "      <th>1</th>\n",
       "      <td>66</td>\n",
       "      <td>F</td>\n",
       "      <td>13</td>\n",
       "      <td>Unemployed</td>\n",
       "      <td>1080</td>\n",
       "      <td>18000</td>\n",
       "      <td>Own</td>\n",
       "      <td>0</td>\n",
       "      <td>5561</td>\n",
       "      <td>Paid</td>\n",
       "    </tr>\n",
       "    <tr>\n",
       "      <th>2</th>\n",
       "      <td>48</td>\n",
       "      <td>F</td>\n",
       "      <td>4</td>\n",
       "      <td>Self Employed</td>\n",
       "      <td>3690</td>\n",
       "      <td>47500</td>\n",
       "      <td>Rent</td>\n",
       "      <td>1</td>\n",
       "      <td>28288</td>\n",
       "      <td>Paid</td>\n",
       "    </tr>\n",
       "    <tr>\n",
       "      <th>3</th>\n",
       "      <td>67</td>\n",
       "      <td>F</td>\n",
       "      <td>47</td>\n",
       "      <td>Self Employed</td>\n",
       "      <td>6560</td>\n",
       "      <td>36000</td>\n",
       "      <td>Mortgage</td>\n",
       "      <td>0</td>\n",
       "      <td>30199</td>\n",
       "      <td>Paid</td>\n",
       "    </tr>\n",
       "    <tr>\n",
       "      <th>4</th>\n",
       "      <td>70</td>\n",
       "      <td>M</td>\n",
       "      <td>8</td>\n",
       "      <td>Self Employed</td>\n",
       "      <td>9100</td>\n",
       "      <td>50500</td>\n",
       "      <td>Own</td>\n",
       "      <td>0</td>\n",
       "      <td>35078</td>\n",
       "      <td>Paid</td>\n",
       "    </tr>\n",
       "  </tbody>\n",
       "</table>\n",
       "</div>"
      ],
      "text/plain": [
       "   Age Gender  Years at address Employment status  Current debt  Income  \\\n",
       "0   19      F                 2        Unemployed             0   45500   \n",
       "1   66      F                13        Unemployed          1080   18000   \n",
       "2   48      F                 4     Self Employed          3690   47500   \n",
       "3   67      F                47     Self Employed          6560   36000   \n",
       "4   70      M                 8     Self Employed          9100   50500   \n",
       "\n",
       "   Own home  CCJs  Loan amount Outcome  \n",
       "0      Rent     1        13234    Paid  \n",
       "1       Own     0         5561    Paid  \n",
       "2      Rent     1        28288    Paid  \n",
       "3  Mortgage     0        30199    Paid  \n",
       "4       Own     0        35078    Paid  "
      ]
     },
     "execution_count": 6,
     "metadata": {},
     "output_type": "execute_result"
    }
   ],
   "source": [
    "#  remove unused columns\n",
    "loanData=loanData.drop(columns=['Customer ID','Fictional Surname','Country','Postcode'])\n",
    "loanData.head(5)"
   ]
  },
  {
   "cell_type": "code",
   "execution_count": 7,
   "id": "b4287c0f",
   "metadata": {},
   "outputs": [
    {
     "data": {
      "text/plain": [
       "Age                  0\n",
       "Gender               0\n",
       "Years at address     0\n",
       "Employment status    0\n",
       "Current debt         0\n",
       "Income               0\n",
       "Own home             0\n",
       "CCJs                 0\n",
       "Loan amount          0\n",
       "Outcome              0\n",
       "dtype: int64"
      ]
     },
     "execution_count": 7,
     "metadata": {},
     "output_type": "execute_result"
    }
   ],
   "source": [
    "# check for null values\n",
    "loanData.isnull().sum()"
   ]
  },
  {
   "cell_type": "code",
   "execution_count": 8,
   "id": "98e9bea5",
   "metadata": {},
   "outputs": [
    {
     "data": {
      "text/plain": [
       "Age                  0\n",
       "Gender               0\n",
       "Years at address     0\n",
       "Employment status    0\n",
       "Current debt         0\n",
       "Income               0\n",
       "Own home             0\n",
       "CCJs                 0\n",
       "Loan amount          0\n",
       "Outcome              0\n",
       "dtype: int64"
      ]
     },
     "execution_count": 8,
     "metadata": {},
     "output_type": "execute_result"
    }
   ],
   "source": [
    "# check for NAN values\n",
    "loanData.isna().sum()"
   ]
  },
  {
   "cell_type": "code",
   "execution_count": 9,
   "id": "d5220e04",
   "metadata": {},
   "outputs": [
    {
     "data": {
      "text/html": [
       "<div>\n",
       "<style scoped>\n",
       "    .dataframe tbody tr th:only-of-type {\n",
       "        vertical-align: middle;\n",
       "    }\n",
       "\n",
       "    .dataframe tbody tr th {\n",
       "        vertical-align: top;\n",
       "    }\n",
       "\n",
       "    .dataframe thead th {\n",
       "        text-align: right;\n",
       "    }\n",
       "</style>\n",
       "<table border=\"1\" class=\"dataframe\">\n",
       "  <thead>\n",
       "    <tr style=\"text-align: right;\">\n",
       "      <th></th>\n",
       "      <th>Age</th>\n",
       "      <th>Gender</th>\n",
       "      <th>Years at address</th>\n",
       "      <th>Employment status</th>\n",
       "      <th>Current debt</th>\n",
       "      <th>Income</th>\n",
       "      <th>Own home</th>\n",
       "      <th>CCJs</th>\n",
       "      <th>Loan amount</th>\n",
       "      <th>Outcome</th>\n",
       "    </tr>\n",
       "  </thead>\n",
       "  <tbody>\n",
       "    <tr>\n",
       "      <th>0</th>\n",
       "      <td>19</td>\n",
       "      <td>F</td>\n",
       "      <td>2</td>\n",
       "      <td>Unemployed</td>\n",
       "      <td>0</td>\n",
       "      <td>45500</td>\n",
       "      <td>Rent</td>\n",
       "      <td>1</td>\n",
       "      <td>13234</td>\n",
       "      <td>Paid</td>\n",
       "    </tr>\n",
       "    <tr>\n",
       "      <th>1</th>\n",
       "      <td>66</td>\n",
       "      <td>F</td>\n",
       "      <td>13</td>\n",
       "      <td>Unemployed</td>\n",
       "      <td>1080</td>\n",
       "      <td>18000</td>\n",
       "      <td>Own</td>\n",
       "      <td>0</td>\n",
       "      <td>5561</td>\n",
       "      <td>Paid</td>\n",
       "    </tr>\n",
       "    <tr>\n",
       "      <th>2</th>\n",
       "      <td>48</td>\n",
       "      <td>F</td>\n",
       "      <td>4</td>\n",
       "      <td>Self Employed</td>\n",
       "      <td>3690</td>\n",
       "      <td>47500</td>\n",
       "      <td>Rent</td>\n",
       "      <td>1</td>\n",
       "      <td>28288</td>\n",
       "      <td>Paid</td>\n",
       "    </tr>\n",
       "    <tr>\n",
       "      <th>3</th>\n",
       "      <td>67</td>\n",
       "      <td>F</td>\n",
       "      <td>47</td>\n",
       "      <td>Self Employed</td>\n",
       "      <td>6560</td>\n",
       "      <td>36000</td>\n",
       "      <td>Mortgage</td>\n",
       "      <td>0</td>\n",
       "      <td>30199</td>\n",
       "      <td>Paid</td>\n",
       "    </tr>\n",
       "    <tr>\n",
       "      <th>4</th>\n",
       "      <td>70</td>\n",
       "      <td>M</td>\n",
       "      <td>8</td>\n",
       "      <td>Self Employed</td>\n",
       "      <td>9100</td>\n",
       "      <td>50500</td>\n",
       "      <td>Own</td>\n",
       "      <td>0</td>\n",
       "      <td>35078</td>\n",
       "      <td>Paid</td>\n",
       "    </tr>\n",
       "    <tr>\n",
       "      <th>...</th>\n",
       "      <td>...</td>\n",
       "      <td>...</td>\n",
       "      <td>...</td>\n",
       "      <td>...</td>\n",
       "      <td>...</td>\n",
       "      <td>...</td>\n",
       "      <td>...</td>\n",
       "      <td>...</td>\n",
       "      <td>...</td>\n",
       "      <td>...</td>\n",
       "    </tr>\n",
       "    <tr>\n",
       "      <th>1995</th>\n",
       "      <td>60</td>\n",
       "      <td>F</td>\n",
       "      <td>4</td>\n",
       "      <td>Self Employed</td>\n",
       "      <td>2900</td>\n",
       "      <td>22500</td>\n",
       "      <td>Own</td>\n",
       "      <td>1</td>\n",
       "      <td>15725</td>\n",
       "      <td>Paid</td>\n",
       "    </tr>\n",
       "    <tr>\n",
       "      <th>1996</th>\n",
       "      <td>24</td>\n",
       "      <td>F</td>\n",
       "      <td>7</td>\n",
       "      <td>Self Employed</td>\n",
       "      <td>5130</td>\n",
       "      <td>38000</td>\n",
       "      <td>Own</td>\n",
       "      <td>0</td>\n",
       "      <td>35911</td>\n",
       "      <td>Paid</td>\n",
       "    </tr>\n",
       "    <tr>\n",
       "      <th>1997</th>\n",
       "      <td>34</td>\n",
       "      <td>M</td>\n",
       "      <td>5</td>\n",
       "      <td>Unemployed</td>\n",
       "      <td>6530</td>\n",
       "      <td>41500</td>\n",
       "      <td>Own</td>\n",
       "      <td>2</td>\n",
       "      <td>6874</td>\n",
       "      <td>Paid</td>\n",
       "    </tr>\n",
       "    <tr>\n",
       "      <th>1998</th>\n",
       "      <td>52</td>\n",
       "      <td>F</td>\n",
       "      <td>2</td>\n",
       "      <td>Employed</td>\n",
       "      <td>930</td>\n",
       "      <td>32500</td>\n",
       "      <td>Own</td>\n",
       "      <td>0</td>\n",
       "      <td>5412</td>\n",
       "      <td>Paid</td>\n",
       "    </tr>\n",
       "    <tr>\n",
       "      <th>1999</th>\n",
       "      <td>42</td>\n",
       "      <td>M</td>\n",
       "      <td>3</td>\n",
       "      <td>Self Employed</td>\n",
       "      <td>10</td>\n",
       "      <td>49000</td>\n",
       "      <td>Own</td>\n",
       "      <td>0</td>\n",
       "      <td>3835</td>\n",
       "      <td>Defaulted</td>\n",
       "    </tr>\n",
       "  </tbody>\n",
       "</table>\n",
       "<p>2000 rows × 10 columns</p>\n",
       "</div>"
      ],
      "text/plain": [
       "      Age Gender  Years at address Employment status  Current debt  Income  \\\n",
       "0      19      F                 2        Unemployed             0   45500   \n",
       "1      66      F                13        Unemployed          1080   18000   \n",
       "2      48      F                 4     Self Employed          3690   47500   \n",
       "3      67      F                47     Self Employed          6560   36000   \n",
       "4      70      M                 8     Self Employed          9100   50500   \n",
       "...   ...    ...               ...               ...           ...     ...   \n",
       "1995   60      F                 4     Self Employed          2900   22500   \n",
       "1996   24      F                 7     Self Employed          5130   38000   \n",
       "1997   34      M                 5        Unemployed          6530   41500   \n",
       "1998   52      F                 2          Employed           930   32500   \n",
       "1999   42      M                 3     Self Employed            10   49000   \n",
       "\n",
       "      Own home  CCJs  Loan amount    Outcome  \n",
       "0         Rent     1        13234       Paid  \n",
       "1          Own     0         5561       Paid  \n",
       "2         Rent     1        28288       Paid  \n",
       "3     Mortgage     0        30199       Paid  \n",
       "4          Own     0        35078       Paid  \n",
       "...        ...   ...          ...        ...  \n",
       "1995       Own     1        15725       Paid  \n",
       "1996       Own     0        35911       Paid  \n",
       "1997       Own     2         6874       Paid  \n",
       "1998       Own     0         5412       Paid  \n",
       "1999       Own     0         3835  Defaulted  \n",
       "\n",
       "[2000 rows x 10 columns]"
      ]
     },
     "execution_count": 9,
     "metadata": {},
     "output_type": "execute_result"
    }
   ],
   "source": [
    "# check for duplicates and drop them\n",
    "loanData.duplicated()\n",
    "loanData.drop_duplicates()"
   ]
  },
  {
   "cell_type": "code",
   "execution_count": 10,
   "id": "2004b632",
   "metadata": {},
   "outputs": [],
   "source": [
    "################################################################################################\n",
    "\n",
    "#     PLOT VARIABLES AND CHECK FOR MISTAKES\n",
    "#     REMOVE OUTLIERS OR CHANGE THEM\n",
    "\n",
    "################################################################################################"
   ]
  },
  {
   "cell_type": "code",
   "execution_count": 11,
   "id": "a084ede9",
   "metadata": {},
   "outputs": [],
   "source": [
    "#########################################################\n",
    "\n",
    "#     GENDER COLUMN GRAPHING AND EXPLORATORY ANALYSIS\n",
    "\n",
    "#########################################################"
   ]
  },
  {
   "cell_type": "code",
   "execution_count": 12,
   "id": "9b4020d5",
   "metadata": {},
   "outputs": [
    {
     "data": {
      "text/plain": [
       "<AxesSubplot:title={'center':'Gender counts'}>"
      ]
     },
     "execution_count": 12,
     "metadata": {},
     "output_type": "execute_result"
    },
    {
     "data": {
      "image/png": "[encoded data removed]",
      "text/plain": [
       "<Figure size 576x288 with 1 Axes>"
      ]
     },
     "metadata": {
      "needs_background": "light"
     },
     "output_type": "display_data"
    }
   ],
   "source": [
    "\n",
    "loanData['Gender'].value_counts(normalize=True).plot.bar(figsize=(8,4),title='Gender counts')\n"
   ]
  },
  {
   "cell_type": "code",
   "execution_count": 13,
   "id": "1f610ae9",
   "metadata": {
    "scrolled": true
   },
   "outputs": [
    {
     "data": {
      "text/plain": [
       "<AxesSubplot:title={'center':'Gender counts'}>"
      ]
     },
     "execution_count": 13,
     "metadata": {},
     "output_type": "execute_result"
    },
    {
     "data": {
      "image/png": "[encoded data removed]",
      "text/plain": [
       "<Figure size 576x288 with 1 Axes>"
      ]
     },
     "metadata": {
      "needs_background": "light"
     },
     "output_type": "display_data"
    }
   ],
   "source": [
    "\n",
    "###########     clean gender data    ###############\n",
    "\n",
    "loanData['Gender'].replace(['Female','Male','H','N','1','D','0'],['F','M','F','M','M','F','F'], inplace=True)\n",
    "loanData['Gender'].value_counts(normalize=True).plot.bar(figsize=(8,4),title='Gender counts')\n"
   ]
  },
  {
   "cell_type": "code",
   "execution_count": 14,
   "id": "53a84ff0",
   "metadata": {},
   "outputs": [],
   "source": [
    "#########################################################\n",
    "#########################################################\n",
    "#########################################################\n",
    "\n"
   ]
  },
  {
   "cell_type": "code",
   "execution_count": 15,
   "id": "eaebe5e1",
   "metadata": {},
   "outputs": [],
   "source": [
    "#################################################################\n",
    "\n",
    "#     EMPLOYMENT STATUS COLUMN GRAPHING AND EXPLORATORY ANALYSIS\n",
    "\n",
    "#################################################################"
   ]
  },
  {
   "cell_type": "code",
   "execution_count": 16,
   "id": "48e1c6e6",
   "metadata": {
    "scrolled": true
   },
   "outputs": [
    {
     "data": {
      "text/plain": [
       "<AxesSubplot:title={'center':'Employment status counts'}>"
      ]
     },
     "execution_count": 16,
     "metadata": {},
     "output_type": "execute_result"
    },
    {
     "data": {
      "image/png": "[encoded data removed]",
      "text/plain": [
       "<Figure size 576x288 with 1 Axes>"
      ]
     },
     "metadata": {
      "needs_background": "light"
     },
     "output_type": "display_data"
    }
   ],
   "source": [
    "\n",
    "###########     Employment status graphs    ###############\n",
    "emp=loanData[(loanData['Employment status']=='Retired')]\n",
    "#print(emp)\n",
    "\n",
    "loanData['Employment status'].value_counts(normalize=True).plot.bar(figsize=(8,4),title='Employment status counts')"
   ]
  },
  {
   "cell_type": "code",
   "execution_count": 17,
   "id": "59503535",
   "metadata": {},
   "outputs": [
    {
     "data": {
      "text/plain": [
       "<AxesSubplot:title={'center':'Employment status counts'}>"
      ]
     },
     "execution_count": 17,
     "metadata": {},
     "output_type": "execute_result"
    },
    {
     "data": {
      "image/png": "[encoded data removed]",
      "text/plain": [
       "<Figure size 576x288 with 1 Axes>"
      ]
     },
     "metadata": {
      "needs_background": "light"
     },
     "output_type": "display_data"
    }
   ],
   "source": [
    "\n",
    "###########     clean employment status data    ###############\n",
    "\n",
    "loanData['Employment status'].replace(['Retired'],['Employed'], inplace=True)\n",
    "loanData['Employment status'].value_counts(normalize=True).plot.bar(figsize=(8,4),title='Employment status counts')"
   ]
  },
  {
   "cell_type": "code",
   "execution_count": 18,
   "id": "0c64ef6c",
   "metadata": {},
   "outputs": [],
   "source": [
    "#################################################################\n",
    "#################################################################\n",
    "#################################################################\n",
    "\n",
    "\n"
   ]
  },
  {
   "cell_type": "code",
   "execution_count": 19,
   "id": "27c53b54",
   "metadata": {},
   "outputs": [],
   "source": [
    "#################################################################\n",
    "\n",
    "#     OWN HOMES COLUMN GRAPHING AND EXPLORATORY ANALYSIS\n",
    "\n",
    "#################################################################"
   ]
  },
  {
   "cell_type": "code",
   "execution_count": 20,
   "id": "8624893a",
   "metadata": {
    "scrolled": false
   },
   "outputs": [
    {
     "data": {
      "text/plain": [
       "<AxesSubplot:title={'center':'Own home counts'}>"
      ]
     },
     "execution_count": 20,
     "metadata": {},
     "output_type": "execute_result"
    },
    {
     "data": {
      "image/png": "[encoded data removed]",
      "text/plain": [
       "<Figure size 576x288 with 1 Axes>"
      ]
     },
     "metadata": {
      "needs_background": "light"
     },
     "output_type": "display_data"
    }
   ],
   "source": [
    "\n",
    "###########     Own homes graphs    ###############\n",
    "\n",
    "loanData['Own home'].value_counts(normalize=True).plot.bar(figsize=(8,4),title='Own home counts')\n"
   ]
  },
  {
   "cell_type": "code",
   "execution_count": 21,
   "id": "1997eba4",
   "metadata": {},
   "outputs": [],
   "source": [
    "#################################################################\n",
    "#################################################################\n",
    "#################################################################\n",
    "\n",
    "\n"
   ]
  },
  {
   "cell_type": "code",
   "execution_count": 22,
   "id": "f7caddd1",
   "metadata": {},
   "outputs": [],
   "source": [
    "#################################################################\n",
    "\n",
    "#     OUTCOME COLUMN GRAPHING AND EXPLORATORY ANALYSIS\n",
    "\n",
    "#################################################################"
   ]
  },
  {
   "cell_type": "code",
   "execution_count": 23,
   "id": "a786a8f3",
   "metadata": {},
   "outputs": [
    {
     "data": {
      "text/plain": [
       "<AxesSubplot:title={'center':'Outcome counts'}>"
      ]
     },
     "execution_count": 23,
     "metadata": {},
     "output_type": "execute_result"
    },
    {
     "data": {
      "image/png": "[encoded data removed]",
      "text/plain": [
       "<Figure size 576x360 with 1 Axes>"
      ]
     },
     "metadata": {
      "needs_background": "light"
     },
     "output_type": "display_data"
    }
   ],
   "source": [
    "\n",
    "###########     Loan Outcome graphs    ###############\n",
    "\n",
    "loanData['Outcome'].value_counts(normalize=True).plot.bar(figsize=(8,5),title='Outcome counts')\n"
   ]
  },
  {
   "cell_type": "code",
   "execution_count": 24,
   "id": "0e01a403",
   "metadata": {},
   "outputs": [],
   "source": [
    "#################################################################\n",
    "#################################################################\n",
    "#################################################################\n",
    "\n"
   ]
  },
  {
   "cell_type": "code",
   "execution_count": 25,
   "id": "826f5428",
   "metadata": {},
   "outputs": [],
   "source": [
    "#################################################################\n",
    "\n",
    "#     AGE GRAPHING AND EXPLORATORY ANALYSIS\n",
    "\n",
    "#################################################################"
   ]
  },
  {
   "cell_type": "code",
   "execution_count": 26,
   "id": "2cb2456b",
   "metadata": {},
   "outputs": [
    {
     "data": {
      "image/png": "[encoded data removed]",
      "text/plain": [
       "<Figure size 360x360 with 1 Axes>"
      ]
     },
     "metadata": {
      "needs_background": "light"
     },
     "output_type": "display_data"
    },
    {
     "data": {
      "image/png": "[encoded data removed]",
      "text/plain": [
       "<Figure size 576x360 with 1 Axes>"
      ]
     },
     "metadata": {
      "needs_background": "light"
     },
     "output_type": "display_data"
    }
   ],
   "source": [
    "sns.displot(loanData['Age'])\n",
    "plt.show()\n",
    "loanData['Age'].plot.box(figsize=(8,5))\n",
    "plt.show()"
   ]
  },
  {
   "cell_type": "code",
   "execution_count": 27,
   "id": "5da3259e",
   "metadata": {},
   "outputs": [],
   "source": [
    "#################################################################\n",
    "#################################################################\n",
    "#################################################################\n",
    "\n"
   ]
  },
  {
   "cell_type": "code",
   "execution_count": 28,
   "id": "f4f64ff4",
   "metadata": {},
   "outputs": [],
   "source": [
    "#################################################################\n",
    "\n",
    "#     YEARS AT ADDRESS GRAPHING AND EXPLORATORY ANALYSIS\n",
    "\n",
    "#################################################################"
   ]
  },
  {
   "cell_type": "code",
   "execution_count": 29,
   "id": "8582764d",
   "metadata": {
    "scrolled": true
   },
   "outputs": [
    {
     "data": {
      "image/png": "[encoded data removed]",
      "text/plain": [
       "<Figure size 360x360 with 1 Axes>"
      ]
     },
     "metadata": {
      "needs_background": "light"
     },
     "output_type": "display_data"
    },
    {
     "data": {
      "image/png": "[encoded data removed]",
      "text/plain": [
       "<Figure size 576x360 with 1 Axes>"
      ]
     },
     "metadata": {
      "needs_background": "light"
     },
     "output_type": "display_data"
    }
   ],
   "source": [
    "#   plot initial graphs\n",
    "\n",
    "sns.displot(loanData['Years at address'])\n",
    "plt.show()\n",
    "loanData['Years at address'].plot.box(figsize=(8,5))\n",
    "plt.show()"
   ]
  },
  {
   "cell_type": "code",
   "execution_count": 30,
   "id": "8e683e02",
   "metadata": {
    "scrolled": true
   },
   "outputs": [],
   "source": [
    "#####  THIS SECTION WAS RUN TWICE !!!!  #####\n",
    "\n",
    "# find upper and lower bound\n",
    "\n",
    "q3,q1=np.percentile(np.array(loanData['Years at address']),[75,25])\n",
    "# print(q3,q1)\n",
    "intrQuartRange=q3-q1\n",
    "# print(intrQuartRange)\n",
    "upperBound=q3+(1.5*intrQuartRange)\n",
    "lowerBound=q1-(1.5*intrQuartRange)\n",
    "\n",
    "loanData.loc[loanData['Years at address']>upperBound,'Years at address']=np.nan\n",
    "loanData.loc[loanData['Years at address']<lowerBound,'Years at address']=np.nan\n",
    "\n",
    "# confirm null values added\n",
    "# print(loanData.isnull().sum())\n",
    "\n",
    "# find mean\n",
    "mean = math.floor(loanData['Years at address'].mean())\n",
    "\n",
    "# replace null values with mean\n",
    "\n",
    "loanData['Years at address'].fillna(mean,inplace=True)\n",
    "# print(loanData.isnull().sum())\n",
    "\n",
    "\n"
   ]
  },
  {
   "cell_type": "code",
   "execution_count": 31,
   "id": "c6e5abd1",
   "metadata": {
    "scrolled": true
   },
   "outputs": [
    {
     "data": {
      "image/png": "[encoded data removed]",
      "text/plain": [
       "<Figure size 360x360 with 1 Axes>"
      ]
     },
     "metadata": {
      "needs_background": "light"
     },
     "output_type": "display_data"
    },
    {
     "data": {
      "image/png": "[encoded data removed]",
      "text/plain": [
       "<Figure size 576x360 with 1 Axes>"
      ]
     },
     "metadata": {
      "needs_background": "light"
     },
     "output_type": "display_data"
    }
   ],
   "source": [
    "#   plot graphs with outliers removed\n",
    "\n",
    "sns.displot(loanData['Years at address'])\n",
    "plt.show()\n",
    "loanData['Years at address'].plot.box(figsize=(8,5))\n",
    "plt.show()"
   ]
  },
  {
   "cell_type": "code",
   "execution_count": 32,
   "id": "98b03f4c",
   "metadata": {},
   "outputs": [],
   "source": [
    "#################################################################\n",
    "#################################################################\n",
    "#################################################################\n",
    "\n"
   ]
  },
  {
   "cell_type": "code",
   "execution_count": 33,
   "id": "f12ccaaf",
   "metadata": {},
   "outputs": [],
   "source": [
    "#################################################################\n",
    "\n",
    "#     CURRENT DEBT GRAPHING AND EXPLORATORY ANALYSIS\n",
    "\n",
    "#################################################################"
   ]
  },
  {
   "cell_type": "code",
   "execution_count": 34,
   "id": "e04fcc8b",
   "metadata": {
    "scrolled": true
   },
   "outputs": [
    {
     "data": {
      "image/png": "[encoded data removed]",
      "text/plain": [
       "<Figure size 360x360 with 1 Axes>"
      ]
     },
     "metadata": {
      "needs_background": "light"
     },
     "output_type": "display_data"
    },
    {
     "data": {
      "image/png": "[encoded data removed]",
      "text/plain": [
       "<Figure size 576x360 with 1 Axes>"
      ]
     },
     "metadata": {
      "needs_background": "light"
     },
     "output_type": "display_data"
    }
   ],
   "source": [
    "sns.displot(loanData['Current debt'])\n",
    "plt.show()\n",
    "loanData['Current debt'].plot.box(figsize=(8,5))\n",
    "plt.show()"
   ]
  },
  {
   "cell_type": "code",
   "execution_count": 35,
   "id": "24176210",
   "metadata": {},
   "outputs": [],
   "source": [
    "#################################################################\n",
    "#################################################################\n",
    "#################################################################"
   ]
  },
  {
   "cell_type": "code",
   "execution_count": 36,
   "id": "69223004",
   "metadata": {},
   "outputs": [],
   "source": [
    "#################################################################\n",
    "\n",
    "#     INCOME GRAPHING AND EXPLORATORY ANALYSIS\n",
    "\n",
    "#################################################################"
   ]
  },
  {
   "cell_type": "code",
   "execution_count": 37,
   "id": "6e616438",
   "metadata": {
    "scrolled": true
   },
   "outputs": [
    {
     "data": {
      "image/png": "[encoded data removed]",
      "text/plain": [
       "<Figure size 360x360 with 1 Axes>"
      ]
     },
     "metadata": {
      "needs_background": "light"
     },
     "output_type": "display_data"
    },
    {
     "data": {
      "image/png": "[encoded data removed]",
      "text/plain": [
       "<Figure size 576x360 with 1 Axes>"
      ]
     },
     "metadata": {
      "needs_background": "light"
     },
     "output_type": "display_data"
    }
   ],
   "source": [
    "#####  plot initial graphs  #####\n",
    "sns.displot(loanData['Income'])\n",
    "plt.show()\n",
    "loanData['Income'].plot.box(figsize=(8,5))\n",
    "plt.show()"
   ]
  },
  {
   "cell_type": "code",
   "execution_count": 38,
   "id": "987126cf",
   "metadata": {},
   "outputs": [],
   "source": [
    "# find upper and lower bound\n",
    "\n",
    "q3,q1=np.percentile(np.array(loanData['Income']),[75,25])\n",
    "# print(q3,q1)\n",
    "intrQuartRange=q3-q1\n",
    "# print(intrQuartRange)\n",
    "upperBound=q3+(1.5*intrQuartRange)\n",
    "lowerBound=q1-(1.5*intrQuartRange)\n",
    "\n",
    "loanData.loc[loanData['Income']>upperBound,'Income']=np.nan\n",
    "loanData.loc[loanData['Income']<lowerBound,'Income']=np.nan\n",
    "\n",
    "# confirm null values added\n",
    "# print(loanData.isnull().sum())\n",
    "\n",
    "# find mean\n",
    "mean = math.floor(loanData['Income'].mean())\n",
    "\n",
    "# replace null values with mean\n",
    "\n",
    "loanData['Income'].fillna(mean,inplace=True)\n",
    "# print(loanData.isnull().sum())\n"
   ]
  },
  {
   "cell_type": "code",
   "execution_count": 39,
   "id": "8f0a91f9",
   "metadata": {},
   "outputs": [
    {
     "data": {
      "image/png": "[encoded data removed]",
      "text/plain": [
       "<Figure size 360x360 with 1 Axes>"
      ]
     },
     "metadata": {
      "needs_background": "light"
     },
     "output_type": "display_data"
    },
    {
     "data": {
      "image/png": "[encoded data removed]",
      "text/plain": [
       "<Figure size 576x360 with 1 Axes>"
      ]
     },
     "metadata": {
      "needs_background": "light"
     },
     "output_type": "display_data"
    }
   ],
   "source": [
    "#####  plot graphs without outliers  #####\n",
    "sns.displot(loanData['Income'])\n",
    "plt.show()\n",
    "loanData['Income'].plot.box(figsize=(8,5))\n",
    "plt.show()"
   ]
  },
  {
   "cell_type": "code",
   "execution_count": 40,
   "id": "7c17e4b7",
   "metadata": {},
   "outputs": [],
   "source": [
    "#################################################################\n",
    "#################################################################\n",
    "#################################################################"
   ]
  },
  {
   "cell_type": "code",
   "execution_count": 41,
   "id": "c60de1c5",
   "metadata": {},
   "outputs": [],
   "source": [
    "#################################################################\n",
    "\n",
    "#     CCJS GRAPHING AND EXPLORATORY ANALYSIS\n",
    "\n",
    "#################################################################"
   ]
  },
  {
   "cell_type": "code",
   "execution_count": 42,
   "id": "e3feab1f",
   "metadata": {
    "scrolled": true
   },
   "outputs": [
    {
     "data": {
      "image/png": "[encoded data removed]",
      "text/plain": [
       "<Figure size 360x360 with 1 Axes>"
      ]
     },
     "metadata": {
      "needs_background": "light"
     },
     "output_type": "display_data"
    },
    {
     "data": {
      "image/png": "[encoded data removed]",
      "text/plain": [
       "<Figure size 576x360 with 1 Axes>"
      ]
     },
     "metadata": {
      "needs_background": "light"
     },
     "output_type": "display_data"
    }
   ],
   "source": [
    "\n",
    "#####  plot initial graphs  #####\n",
    "sns.displot(loanData['CCJs'])\n",
    "plt.show()\n",
    "loanData['CCJs'].plot.box(figsize=(8,5))\n",
    "plt.show()"
   ]
  },
  {
   "cell_type": "code",
   "execution_count": 43,
   "id": "94f98cab",
   "metadata": {
    "scrolled": true
   },
   "outputs": [
    {
     "name": "stdout",
     "output_type": "stream",
     "text": [
      "Age                  0\n",
      "Gender               0\n",
      "Years at address     0\n",
      "Employment status    0\n",
      "Current debt         0\n",
      "Income               0\n",
      "Own home             0\n",
      "CCJs                 0\n",
      "Loan amount          0\n",
      "Outcome              0\n",
      "dtype: int64\n"
     ]
    }
   ],
   "source": [
    "# find upper and lower bound\n",
    "\n",
    "q3,q1=np.percentile(np.array(loanData['CCJs']),[75,25])\n",
    "# # print(q3,q1)\n",
    "intrQuartRange=q3-q1\n",
    "# # print(intrQuartRange)\n",
    "upperBound=q3+(1.5*intrQuartRange)\n",
    "lowerBound=q1-(1.5*intrQuartRange)\n",
    "\n",
    "loanData.loc[loanData['CCJs']>upperBound,'CCJs']=np.nan\n",
    "loanData.loc[loanData['CCJs']<lowerBound,'CCJs']=np.nan\n",
    "\n",
    "# confirm null values added\n",
    "# print(loanData.isnull().sum())\n",
    "\n",
    "# find mode\n",
    "mode = loanData['CCJs'].mode()\n",
    "# print(mode[0])\n",
    "\n",
    "# replace null values with mean\n",
    "\n",
    "loanData['CCJs'].fillna(mode[0],inplace=True)\n",
    "print(loanData.isna().sum())"
   ]
  },
  {
   "cell_type": "code",
   "execution_count": 44,
   "id": "e5017c89",
   "metadata": {},
   "outputs": [
    {
     "data": {
      "image/png": "[encoded data removed]",
      "text/plain": [
       "<Figure size 360x360 with 1 Axes>"
      ]
     },
     "metadata": {
      "needs_background": "light"
     },
     "output_type": "display_data"
    },
    {
     "data": {
      "image/png": "[encoded data removed]",
      "text/plain": [
       "<Figure size 576x360 with 1 Axes>"
      ]
     },
     "metadata": {
      "needs_background": "light"
     },
     "output_type": "display_data"
    }
   ],
   "source": [
    "\n",
    "#####  plot adjusted graphs  #####\n",
    "sns.displot(loanData['CCJs'])\n",
    "plt.show()\n",
    "loanData['CCJs'].plot.box(figsize=(8,5))\n",
    "plt.show()\n"
   ]
  },
  {
   "cell_type": "code",
   "execution_count": 45,
   "id": "2157f02b",
   "metadata": {},
   "outputs": [],
   "source": [
    "#################################################################\n",
    "#################################################################\n",
    "#################################################################"
   ]
  },
  {
   "cell_type": "code",
   "execution_count": 46,
   "id": "7740584d",
   "metadata": {},
   "outputs": [],
   "source": [
    "#################################################################\n",
    "\n",
    "#     LOAN AMOUNT GRAPHING AND EXPLORATORY ANALYSIS\n",
    "\n",
    "#################################################################"
   ]
  },
  {
   "cell_type": "code",
   "execution_count": 47,
   "id": "4143381c",
   "metadata": {},
   "outputs": [
    {
     "data": {
      "image/png": "[encoded data removed]",
      "text/plain": [
       "<Figure size 360x360 with 1 Axes>"
      ]
     },
     "metadata": {
      "needs_background": "light"
     },
     "output_type": "display_data"
    },
    {
     "data": {
      "image/png": "[encoded data removed]",
      "text/plain": [
       "<Figure size 576x360 with 1 Axes>"
      ]
     },
     "metadata": {
      "needs_background": "light"
     },
     "output_type": "display_data"
    }
   ],
   "source": [
    "\n",
    "#####  plot initial graphs  #####\n",
    "sns.displot(loanData['Loan amount'])\n",
    "plt.show()\n",
    "loanData['Loan amount'].plot.box(figsize=(8,5))\n",
    "plt.show()"
   ]
  },
  {
   "cell_type": "code",
   "execution_count": 48,
   "id": "a798f7f0",
   "metadata": {},
   "outputs": [],
   "source": [
    "#################################################################\n",
    "#################################################################\n",
    "#################################################################"
   ]
  },
  {
   "cell_type": "code",
   "execution_count": 49,
   "id": "39ead7b6",
   "metadata": {},
   "outputs": [],
   "source": [
    "#################################################################\n",
    "\n",
    "#     REPLACE CATEGORICAL VALUES WITH NUMERIC VALUES\n",
    "\n",
    "#################################################################"
   ]
  },
  {
   "cell_type": "code",
   "execution_count": 50,
   "id": "20e6f3ec",
   "metadata": {},
   "outputs": [],
   "source": [
    "loanData['Gender'].replace(['F','M'],[0,1],inplace=True)\n",
    "loanData['Employment status'].replace(['Unemployed','Self Employed','Employed'],[0,1,2],inplace=True)\n",
    "loanData['Own home'].replace(['Rent','Mortgage','Own'],[0,1,2],inplace=True)\n",
    "loanData['Outcome'].replace(['Defaulted','Paid'],[0,1],inplace=True)"
   ]
  },
  {
   "cell_type": "code",
   "execution_count": 51,
   "id": "d65b695b",
   "metadata": {},
   "outputs": [],
   "source": [
    "##############################################################"
   ]
  },
  {
   "cell_type": "code",
   "execution_count": 52,
   "id": "066bd36f",
   "metadata": {},
   "outputs": [],
   "source": [
    "#########################################################\n",
    "\n",
    "#     CORRELATE VARIABLES\n",
    "\n",
    "#########################################################"
   ]
  },
  {
   "cell_type": "code",
   "execution_count": 53,
   "id": "5baa221f",
   "metadata": {},
   "outputs": [
    {
     "data": {
      "text/plain": [
       "<AxesSubplot:>"
      ]
     },
     "execution_count": 53,
     "metadata": {},
     "output_type": "execute_result"
    },
    {
     "data": {
      "image/png": "[encoded data removed]",
      "text/plain": [
       "<Figure size 864x504 with 2 Axes>"
      ]
     },
     "metadata": {
      "needs_background": "light"
     },
     "output_type": "display_data"
    }
   ],
   "source": [
    "matrix=loanData.corr()\n",
    "f, ax = plt.subplots(figsize=(12,7))\n",
    "sns.heatmap(matrix,vmax=.8,square=True,cmap=\"BuPu\",annot=True)"
   ]
  },
  {
   "cell_type": "code",
   "execution_count": 54,
   "id": "c4231916",
   "metadata": {},
   "outputs": [],
   "source": [
    "##############################################################"
   ]
  },
  {
   "cell_type": "code",
   "execution_count": null,
   "id": "af084c05",
   "metadata": {},
   "outputs": [],
   "source": []
  },
  {
   "cell_type": "code",
   "execution_count": null,
   "id": "23ffa79f",
   "metadata": {},
   "outputs": [],
   "source": []
  },
  {
   "cell_type": "code",
   "execution_count": null,
   "id": "6df6bdb5",
   "metadata": {},
   "outputs": [],
   "source": []
  },
  {
   "cell_type": "markdown",
   "id": "c964ee94",
   "metadata": {},
   "source": [
    "# BEGIN MODELING"
   ]
  },
  {
   "cell_type": "markdown",
   "id": "1c5bc904",
   "metadata": {},
   "source": [
    "## Prepare data"
   ]
  },
  {
   "cell_type": "code",
   "execution_count": 55,
   "id": "ee25bda8",
   "metadata": {},
   "outputs": [
    {
     "data": {
      "text/html": [
       "<div>\n",
       "<style scoped>\n",
       "    .dataframe tbody tr th:only-of-type {\n",
       "        vertical-align: middle;\n",
       "    }\n",
       "\n",
       "    .dataframe tbody tr th {\n",
       "        vertical-align: top;\n",
       "    }\n",
       "\n",
       "    .dataframe thead th {\n",
       "        text-align: right;\n",
       "    }\n",
       "</style>\n",
       "<table border=\"1\" class=\"dataframe\">\n",
       "  <thead>\n",
       "    <tr style=\"text-align: right;\">\n",
       "      <th></th>\n",
       "      <th>Age</th>\n",
       "      <th>Gender</th>\n",
       "      <th>Years at address</th>\n",
       "      <th>Employment status</th>\n",
       "      <th>Current debt</th>\n",
       "      <th>Income</th>\n",
       "      <th>Own home</th>\n",
       "      <th>CCJs</th>\n",
       "      <th>Loan amount</th>\n",
       "      <th>Outcome</th>\n",
       "    </tr>\n",
       "  </thead>\n",
       "  <tbody>\n",
       "    <tr>\n",
       "      <th>0</th>\n",
       "      <td>2</td>\n",
       "      <td>0</td>\n",
       "      <td>1</td>\n",
       "      <td>0</td>\n",
       "      <td>0</td>\n",
       "      <td>80</td>\n",
       "      <td>0</td>\n",
       "      <td>1</td>\n",
       "      <td>776</td>\n",
       "      <td>1</td>\n",
       "    </tr>\n",
       "    <tr>\n",
       "      <th>1</th>\n",
       "      <td>49</td>\n",
       "      <td>0</td>\n",
       "      <td>12</td>\n",
       "      <td>0</td>\n",
       "      <td>107</td>\n",
       "      <td>24</td>\n",
       "      <td>2</td>\n",
       "      <td>0</td>\n",
       "      <td>333</td>\n",
       "      <td>1</td>\n",
       "    </tr>\n",
       "    <tr>\n",
       "      <th>2</th>\n",
       "      <td>31</td>\n",
       "      <td>0</td>\n",
       "      <td>3</td>\n",
       "      <td>1</td>\n",
       "      <td>344</td>\n",
       "      <td>84</td>\n",
       "      <td>0</td>\n",
       "      <td>1</td>\n",
       "      <td>1467</td>\n",
       "      <td>1</td>\n",
       "    </tr>\n",
       "    <tr>\n",
       "      <th>3</th>\n",
       "      <td>50</td>\n",
       "      <td>0</td>\n",
       "      <td>46</td>\n",
       "      <td>1</td>\n",
       "      <td>555</td>\n",
       "      <td>60</td>\n",
       "      <td>1</td>\n",
       "      <td>0</td>\n",
       "      <td>1543</td>\n",
       "      <td>1</td>\n",
       "    </tr>\n",
       "    <tr>\n",
       "      <th>4</th>\n",
       "      <td>53</td>\n",
       "      <td>1</td>\n",
       "      <td>7</td>\n",
       "      <td>1</td>\n",
       "      <td>726</td>\n",
       "      <td>90</td>\n",
       "      <td>2</td>\n",
       "      <td>0</td>\n",
       "      <td>1683</td>\n",
       "      <td>1</td>\n",
       "    </tr>\n",
       "  </tbody>\n",
       "</table>\n",
       "</div>"
      ],
      "text/plain": [
       "   Age  Gender  Years at address  Employment status  Current debt  Income  \\\n",
       "0    2       0                 1                  0             0      80   \n",
       "1   49       0                12                  0           107      24   \n",
       "2   31       0                 3                  1           344      84   \n",
       "3   50       0                46                  1           555      60   \n",
       "4   53       1                 7                  1           726      90   \n",
       "\n",
       "   Own home  CCJs  Loan amount  Outcome  \n",
       "0         0     1          776        1  \n",
       "1         2     0          333        1  \n",
       "2         0     1         1467        1  \n",
       "3         1     0         1543        1  \n",
       "4         2     0         1683        1  "
      ]
     },
     "execution_count": 55,
     "metadata": {},
     "output_type": "execute_result"
    }
   ],
   "source": [
    "# preprocess data. Convert strings to usable values\n",
    "\n",
    "le = preprocessing.LabelEncoder()\n",
    "loanData=loanData.apply(le.fit_transform)\n",
    "\n",
    "loanData.head()"
   ]
  },
  {
   "cell_type": "code",
   "execution_count": 56,
   "id": "c180df46",
   "metadata": {
    "scrolled": true
   },
   "outputs": [],
   "source": [
    "\n",
    "X=loanData.drop(columns='Outcome')\n",
    "y=loanData['Outcome']\n",
    "\n",
    "# loanData.isna().sum()\n",
    "\n",
    "# split data into training and testing sets\n",
    "X_train, X_test, y_train, y_test = train_test_split(X,y,test_size=0.1)\n",
    "\n"
   ]
  },
  {
   "cell_type": "markdown",
   "id": "aee4261d",
   "metadata": {},
   "source": [
    "## 1. Logistic regression "
   ]
  },
  {
   "cell_type": "code",
   "execution_count": 57,
   "id": "6ff3d8c1",
   "metadata": {},
   "outputs": [],
   "source": [
    "# setup logistic regression model\n",
    "\n",
    "model=LogisticRegression(max_iter=500)"
   ]
  },
  {
   "cell_type": "code",
   "execution_count": 58,
   "id": "7c77c4b7",
   "metadata": {
    "scrolled": true
   },
   "outputs": [
    {
     "data": {
      "text/plain": [
       "LogisticRegression(max_iter=500)"
      ]
     },
     "execution_count": 58,
     "metadata": {},
     "output_type": "execute_result"
    }
   ],
   "source": [
    "# train model\n",
    "model.fit(X_train,y_train)\n"
   ]
  },
  {
   "cell_type": "code",
   "execution_count": 59,
   "id": "671f6d4c",
   "metadata": {},
   "outputs": [
    {
     "name": "stdout",
     "output_type": "stream",
     "text": [
      "0.77\n",
      "1447    1\n",
      "1069    1\n",
      "1192    0\n",
      "819     0\n",
      "1652    1\n",
      "Name: Outcome, dtype: int64\n",
      "[1 1 0 0 1]\n"
     ]
    }
   ],
   "source": [
    "# predict using model\n",
    "\n",
    "predictions = model.predict(X_test)\n",
    "score = accuracy_score(y_test, predictions)\n",
    "print(score)\n",
    "print(y_test.head())\n",
    "print(predictions[:5])\n",
    "\n",
    "\n"
   ]
  },
  {
   "cell_type": "code",
   "execution_count": null,
   "id": "4bc65261",
   "metadata": {},
   "outputs": [],
   "source": []
  },
  {
   "cell_type": "code",
   "execution_count": null,
   "id": "229b061b",
   "metadata": {},
   "outputs": [],
   "source": []
  },
  {
   "cell_type": "markdown",
   "id": "30d35bec",
   "metadata": {},
   "source": [
    "## 2. Decision Tree "
   ]
  },
  {
   "cell_type": "code",
   "execution_count": 60,
   "id": "0effcd8e",
   "metadata": {},
   "outputs": [],
   "source": [
    "treeModel=DecisionTreeClassifier(criterion='entropy')\n"
   ]
  },
  {
   "cell_type": "code",
   "execution_count": 61,
   "id": "ad8a238d",
   "metadata": {},
   "outputs": [
    {
     "data": {
      "text/plain": [
       "DecisionTreeClassifier(criterion='entropy')"
      ]
     },
     "execution_count": 61,
     "metadata": {},
     "output_type": "execute_result"
    }
   ],
   "source": [
    "treeModel.fit(X_train,y_train)"
   ]
  },
  {
   "cell_type": "code",
   "execution_count": 62,
   "id": "65a91970",
   "metadata": {},
   "outputs": [
    {
     "name": "stdout",
     "output_type": "stream",
     "text": [
      "0.65\n"
     ]
    }
   ],
   "source": [
    "treePredictions = treeModel.predict(X_test)\n",
    "treeScore = accuracy_score(y_test, treePredictions)\n",
    "print(treeScore)\n",
    "# print(y_test.head())\n",
    "# print(predictions[:5])"
   ]
  },
  {
   "cell_type": "code",
   "execution_count": null,
   "id": "85abba70",
   "metadata": {},
   "outputs": [],
   "source": []
  },
  {
   "cell_type": "code",
   "execution_count": null,
   "id": "23647d87",
   "metadata": {},
   "outputs": [],
   "source": []
  },
  {
   "cell_type": "markdown",
   "id": "bbf29ea7",
   "metadata": {},
   "source": [
    "## 3. K-Nearest Neighbors "
   ]
  },
  {
   "cell_type": "code",
   "execution_count": 63,
   "id": "f36888c0",
   "metadata": {},
   "outputs": [],
   "source": [
    "knnModel=KNeighborsClassifier(n_neighbors=5)"
   ]
  },
  {
   "cell_type": "code",
   "execution_count": 64,
   "id": "1d43cdf1",
   "metadata": {},
   "outputs": [
    {
     "data": {
      "text/plain": [
       "KNeighborsClassifier()"
      ]
     },
     "execution_count": 64,
     "metadata": {},
     "output_type": "execute_result"
    }
   ],
   "source": [
    "knnModel.fit(X_train,y_train)"
   ]
  },
  {
   "cell_type": "code",
   "execution_count": 65,
   "id": "14f7d573",
   "metadata": {},
   "outputs": [
    {
     "name": "stdout",
     "output_type": "stream",
     "text": [
      "0.525\n"
     ]
    }
   ],
   "source": [
    "knnPredictions = knnModel.predict(X_test)\n",
    "knnScore = accuracy_score(y_test, knnPredictions)\n",
    "print(knnScore)"
   ]
  },
  {
   "cell_type": "code",
   "execution_count": null,
   "id": "bc398d76",
   "metadata": {},
   "outputs": [],
   "source": []
  },
  {
   "cell_type": "code",
   "execution_count": null,
   "id": "7134f352",
   "metadata": {},
   "outputs": [],
   "source": []
  },
  {
   "cell_type": "markdown",
   "id": "0161de96",
   "metadata": {},
   "source": [
    "## 4. Support Vector Machine"
   ]
  },
  {
   "cell_type": "code",
   "execution_count": 66,
   "id": "e04ff477",
   "metadata": {},
   "outputs": [],
   "source": [
    "svmModel=svm.SVC(kernel='linear')"
   ]
  },
  {
   "cell_type": "code",
   "execution_count": 67,
   "id": "6dd7c4c0",
   "metadata": {},
   "outputs": [
    {
     "data": {
      "text/plain": [
       "SVC(kernel='linear')"
      ]
     },
     "execution_count": 67,
     "metadata": {},
     "output_type": "execute_result"
    }
   ],
   "source": [
    "svmModel.fit(X_train,y_train)"
   ]
  },
  {
   "cell_type": "code",
   "execution_count": 68,
   "id": "98e4269a",
   "metadata": {},
   "outputs": [
    {
     "name": "stdout",
     "output_type": "stream",
     "text": [
      "0.8\n"
     ]
    }
   ],
   "source": [
    "svmPredictions = svmModel.predict(X_test)\n",
    "svmScore = accuracy_score(y_test, svmPredictions)\n",
    "print(svmScore)"
   ]
  },
  {
   "cell_type": "code",
   "execution_count": null,
   "id": "dbc8704c",
   "metadata": {},
   "outputs": [],
   "source": []
  }
 ],
 "metadata": {
  "kernelspec": {
   "display_name": "Python 3 (ipykernel)",
   "language": "python",
   "name": "python3"
  },
  "language_info": {
   "codemirror_mode": {
    "name": "ipython",
    "version": 3
   },
   "file_extension": ".py",
   "mimetype": "text/x-python",
   "name": "python",
   "nbconvert_exporter": "python",
   "pygments_lexer": "ipython3",
   "version": "3.8.5"
  }
 },
 "nbformat": 4,
 "nbformat_minor": 5
}
