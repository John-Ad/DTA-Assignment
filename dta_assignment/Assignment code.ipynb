{
 "cells": [
  {
   "cell_type": "code",
   "execution_count": 164,
   "id": "4c27f52a",
   "metadata": {
    "scrolled": true
   },
   "outputs": [
    {
     "data": {
      "text/html": [
       "<div>\n",
       "<style scoped>\n",
       "    .dataframe tbody tr th:only-of-type {\n",
       "        vertical-align: middle;\n",
       "    }\n",
       "\n",
       "    .dataframe tbody tr th {\n",
       "        vertical-align: top;\n",
       "    }\n",
       "\n",
       "    .dataframe thead th {\n",
       "        text-align: right;\n",
       "    }\n",
       "</style>\n",
       "<table border=\"1\" class=\"dataframe\">\n",
       "  <thead>\n",
       "    <tr style=\"text-align: right;\">\n",
       "      <th></th>\n",
       "      <th>Customer ID</th>\n",
       "      <th>Fictional Surname</th>\n",
       "      <th>Age</th>\n",
       "      <th>Gender</th>\n",
       "      <th>Years at address</th>\n",
       "      <th>Employment status</th>\n",
       "      <th>Country</th>\n",
       "      <th>Current debt</th>\n",
       "      <th>Postcode</th>\n",
       "      <th>Income</th>\n",
       "      <th>Own home</th>\n",
       "      <th>CCJs</th>\n",
       "      <th>Loan amount</th>\n",
       "      <th>Outcome</th>\n",
       "    </tr>\n",
       "  </thead>\n",
       "  <tbody>\n",
       "    <tr>\n",
       "      <th>0</th>\n",
       "      <td>945780</td>\n",
       "      <td>Miah</td>\n",
       "      <td>19</td>\n",
       "      <td>F</td>\n",
       "      <td>2</td>\n",
       "      <td>Unemployed</td>\n",
       "      <td>UK</td>\n",
       "      <td>0</td>\n",
       "      <td>TA3 7SH</td>\n",
       "      <td>45500</td>\n",
       "      <td>Rent</td>\n",
       "      <td>1</td>\n",
       "      <td>13234</td>\n",
       "      <td>Paid</td>\n",
       "    </tr>\n",
       "    <tr>\n",
       "      <th>1</th>\n",
       "      <td>747989</td>\n",
       "      <td>Hollis</td>\n",
       "      <td>66</td>\n",
       "      <td>F</td>\n",
       "      <td>13</td>\n",
       "      <td>Unemployed</td>\n",
       "      <td>UK</td>\n",
       "      <td>1080</td>\n",
       "      <td>WV6 8SU</td>\n",
       "      <td>18000</td>\n",
       "      <td>Own</td>\n",
       "      <td>0</td>\n",
       "      <td>5561</td>\n",
       "      <td>Paid</td>\n",
       "    </tr>\n",
       "    <tr>\n",
       "      <th>2</th>\n",
       "      <td>790344</td>\n",
       "      <td>Barker</td>\n",
       "      <td>48</td>\n",
       "      <td>F</td>\n",
       "      <td>4</td>\n",
       "      <td>Self Employed</td>\n",
       "      <td>UK</td>\n",
       "      <td>3690</td>\n",
       "      <td>BT15 5HG</td>\n",
       "      <td>47500</td>\n",
       "      <td>Rent</td>\n",
       "      <td>1</td>\n",
       "      <td>28288</td>\n",
       "      <td>Paid</td>\n",
       "    </tr>\n",
       "    <tr>\n",
       "      <th>3</th>\n",
       "      <td>597668</td>\n",
       "      <td>Titford</td>\n",
       "      <td>67</td>\n",
       "      <td>F</td>\n",
       "      <td>47</td>\n",
       "      <td>Self Employed</td>\n",
       "      <td>UK</td>\n",
       "      <td>6560</td>\n",
       "      <td>GU10 3NH</td>\n",
       "      <td>36000</td>\n",
       "      <td>Mortgage</td>\n",
       "      <td>0</td>\n",
       "      <td>30199</td>\n",
       "      <td>Paid</td>\n",
       "    </tr>\n",
       "    <tr>\n",
       "      <th>4</th>\n",
       "      <td>794971</td>\n",
       "      <td>Berry</td>\n",
       "      <td>70</td>\n",
       "      <td>M</td>\n",
       "      <td>8</td>\n",
       "      <td>Self Employed</td>\n",
       "      <td>UK</td>\n",
       "      <td>9100</td>\n",
       "      <td>GL6 6UB</td>\n",
       "      <td>50500</td>\n",
       "      <td>Own</td>\n",
       "      <td>0</td>\n",
       "      <td>35078</td>\n",
       "      <td>Paid</td>\n",
       "    </tr>\n",
       "  </tbody>\n",
       "</table>\n",
       "</div>"
      ],
      "text/plain": [
       "   Customer ID Fictional Surname  Age Gender  Years at address  \\\n",
       "0       945780              Miah   19      F                 2   \n",
       "1       747989            Hollis   66      F                13   \n",
       "2       790344            Barker   48      F                 4   \n",
       "3       597668           Titford   67      F                47   \n",
       "4       794971             Berry   70      M                 8   \n",
       "\n",
       "  Employment status Country  Current debt  Postcode  Income  Own home  CCJs  \\\n",
       "0        Unemployed      UK             0   TA3 7SH   45500      Rent     1   \n",
       "1        Unemployed      UK          1080   WV6 8SU   18000       Own     0   \n",
       "2     Self Employed      UK          3690  BT15 5HG   47500      Rent     1   \n",
       "3     Self Employed      UK          6560  GU10 3NH   36000  Mortgage     0   \n",
       "4     Self Employed      UK          9100   GL6 6UB   50500       Own     0   \n",
       "\n",
       "   Loan amount Outcome  \n",
       "0        13234    Paid  \n",
       "1         5561    Paid  \n",
       "2        28288    Paid  \n",
       "3        30199    Paid  \n",
       "4        35078    Paid  "
      ]
     },
     "execution_count": 164,
     "metadata": {},
     "output_type": "execute_result"
    }
   ],
   "source": [
    "import pandas as pd\n",
    "import numpy as np\n",
    "import seaborn as sns\n",
    "import matplotlib.pyplot as plt\n",
    "from sklearn.tree import DecisionTreeClassifier\n",
    "from sklearn import preprocessing\n",
    "from sklearn.model_selection import train_test_split\n",
    "from sklearn.metrics import accuracy_score\n",
    "import math\n",
    "\n",
    "# import data\n",
    "\n",
    "loanData=pd.read_csv('./loans.csv')\n",
    "\n",
    "# display first 5 records\n",
    "\n",
    "loanData.head(5)"
   ]
  },
  {
   "cell_type": "code",
   "execution_count": 165,
   "id": "d4be4e2a",
   "metadata": {},
   "outputs": [
    {
     "data": {
      "text/plain": [
       "Customer ID           int64\n",
       "Fictional Surname    object\n",
       "Age                   int64\n",
       "Gender               object\n",
       "Years at address      int64\n",
       "Employment status    object\n",
       "Country              object\n",
       "Current debt          int64\n",
       "Postcode             object\n",
       "Income                int64\n",
       "Own home             object\n",
       "CCJs                  int64\n",
       "Loan amount           int64\n",
       "Outcome              object\n",
       "dtype: object"
      ]
     },
     "execution_count": 165,
     "metadata": {},
     "output_type": "execute_result"
    }
   ],
   "source": [
    "# check data types\n",
    "loanData.dtypes"
   ]
  },
  {
   "cell_type": "code",
   "execution_count": 166,
   "id": "59cf475a",
   "metadata": {},
   "outputs": [
    {
     "data": {
      "text/plain": [
       "(2000, 14)"
      ]
     },
     "execution_count": 166,
     "metadata": {},
     "output_type": "execute_result"
    }
   ],
   "source": [
    "# check shape\n",
    "loanData.shape"
   ]
  },
  {
   "cell_type": "code",
   "execution_count": 167,
   "id": "c3286c7c",
   "metadata": {},
   "outputs": [],
   "source": [
    "###################################\n",
    "\n",
    "#       DATA PREPARATION\n",
    "\n",
    "###################################"
   ]
  },
  {
   "cell_type": "code",
   "execution_count": 168,
   "id": "7df70cb2",
   "metadata": {},
   "outputs": [
    {
     "data": {
      "text/html": [
       "<div>\n",
       "<style scoped>\n",
       "    .dataframe tbody tr th:only-of-type {\n",
       "        vertical-align: middle;\n",
       "    }\n",
       "\n",
       "    .dataframe tbody tr th {\n",
       "        vertical-align: top;\n",
       "    }\n",
       "\n",
       "    .dataframe thead th {\n",
       "        text-align: right;\n",
       "    }\n",
       "</style>\n",
       "<table border=\"1\" class=\"dataframe\">\n",
       "  <thead>\n",
       "    <tr style=\"text-align: right;\">\n",
       "      <th></th>\n",
       "      <th>Age</th>\n",
       "      <th>Gender</th>\n",
       "      <th>Years at address</th>\n",
       "      <th>Employment status</th>\n",
       "      <th>Current debt</th>\n",
       "      <th>Income</th>\n",
       "      <th>Own home</th>\n",
       "      <th>CCJs</th>\n",
       "      <th>Loan amount</th>\n",
       "      <th>Outcome</th>\n",
       "    </tr>\n",
       "  </thead>\n",
       "  <tbody>\n",
       "    <tr>\n",
       "      <th>0</th>\n",
       "      <td>19</td>\n",
       "      <td>F</td>\n",
       "      <td>2</td>\n",
       "      <td>Unemployed</td>\n",
       "      <td>0</td>\n",
       "      <td>45500</td>\n",
       "      <td>Rent</td>\n",
       "      <td>1</td>\n",
       "      <td>13234</td>\n",
       "      <td>Paid</td>\n",
       "    </tr>\n",
       "    <tr>\n",
       "      <th>1</th>\n",
       "      <td>66</td>\n",
       "      <td>F</td>\n",
       "      <td>13</td>\n",
       "      <td>Unemployed</td>\n",
       "      <td>1080</td>\n",
       "      <td>18000</td>\n",
       "      <td>Own</td>\n",
       "      <td>0</td>\n",
       "      <td>5561</td>\n",
       "      <td>Paid</td>\n",
       "    </tr>\n",
       "    <tr>\n",
       "      <th>2</th>\n",
       "      <td>48</td>\n",
       "      <td>F</td>\n",
       "      <td>4</td>\n",
       "      <td>Self Employed</td>\n",
       "      <td>3690</td>\n",
       "      <td>47500</td>\n",
       "      <td>Rent</td>\n",
       "      <td>1</td>\n",
       "      <td>28288</td>\n",
       "      <td>Paid</td>\n",
       "    </tr>\n",
       "    <tr>\n",
       "      <th>3</th>\n",
       "      <td>67</td>\n",
       "      <td>F</td>\n",
       "      <td>47</td>\n",
       "      <td>Self Employed</td>\n",
       "      <td>6560</td>\n",
       "      <td>36000</td>\n",
       "      <td>Mortgage</td>\n",
       "      <td>0</td>\n",
       "      <td>30199</td>\n",
       "      <td>Paid</td>\n",
       "    </tr>\n",
       "    <tr>\n",
       "      <th>4</th>\n",
       "      <td>70</td>\n",
       "      <td>M</td>\n",
       "      <td>8</td>\n",
       "      <td>Self Employed</td>\n",
       "      <td>9100</td>\n",
       "      <td>50500</td>\n",
       "      <td>Own</td>\n",
       "      <td>0</td>\n",
       "      <td>35078</td>\n",
       "      <td>Paid</td>\n",
       "    </tr>\n",
       "  </tbody>\n",
       "</table>\n",
       "</div>"
      ],
      "text/plain": [
       "   Age Gender  Years at address Employment status  Current debt  Income  \\\n",
       "0   19      F                 2        Unemployed             0   45500   \n",
       "1   66      F                13        Unemployed          1080   18000   \n",
       "2   48      F                 4     Self Employed          3690   47500   \n",
       "3   67      F                47     Self Employed          6560   36000   \n",
       "4   70      M                 8     Self Employed          9100   50500   \n",
       "\n",
       "   Own home  CCJs  Loan amount Outcome  \n",
       "0      Rent     1        13234    Paid  \n",
       "1       Own     0         5561    Paid  \n",
       "2      Rent     1        28288    Paid  \n",
       "3  Mortgage     0        30199    Paid  \n",
       "4       Own     0        35078    Paid  "
      ]
     },
     "execution_count": 168,
     "metadata": {},
     "output_type": "execute_result"
    }
   ],
   "source": [
    "#  remove unused columns\n",
    "loanData=loanData.drop(columns=['Customer ID','Fictional Surname','Country','Postcode'])\n",
    "loanData.head(5)"
   ]
  },
  {
   "cell_type": "code",
   "execution_count": 169,
   "id": "b4287c0f",
   "metadata": {},
   "outputs": [
    {
     "data": {
      "text/plain": [
       "Age                  0\n",
       "Gender               0\n",
       "Years at address     0\n",
       "Employment status    0\n",
       "Current debt         0\n",
       "Income               0\n",
       "Own home             0\n",
       "CCJs                 0\n",
       "Loan amount          0\n",
       "Outcome              0\n",
       "dtype: int64"
      ]
     },
     "execution_count": 169,
     "metadata": {},
     "output_type": "execute_result"
    }
   ],
   "source": [
    "# check for null values\n",
    "loanData.isnull().sum()"
   ]
  },
  {
   "cell_type": "code",
   "execution_count": 170,
   "id": "98e9bea5",
   "metadata": {},
   "outputs": [
    {
     "data": {
      "text/plain": [
       "Age                  0\n",
       "Gender               0\n",
       "Years at address     0\n",
       "Employment status    0\n",
       "Current debt         0\n",
       "Income               0\n",
       "Own home             0\n",
       "CCJs                 0\n",
       "Loan amount          0\n",
       "Outcome              0\n",
       "dtype: int64"
      ]
     },
     "execution_count": 170,
     "metadata": {},
     "output_type": "execute_result"
    }
   ],
   "source": [
    "# check for NAN values\n",
    "loanData.isna().sum()"
   ]
  },
  {
   "cell_type": "code",
   "execution_count": 171,
   "id": "d5220e04",
   "metadata": {},
   "outputs": [
    {
     "data": {
      "text/html": [
       "<div>\n",
       "<style scoped>\n",
       "    .dataframe tbody tr th:only-of-type {\n",
       "        vertical-align: middle;\n",
       "    }\n",
       "\n",
       "    .dataframe tbody tr th {\n",
       "        vertical-align: top;\n",
       "    }\n",
       "\n",
       "    .dataframe thead th {\n",
       "        text-align: right;\n",
       "    }\n",
       "</style>\n",
       "<table border=\"1\" class=\"dataframe\">\n",
       "  <thead>\n",
       "    <tr style=\"text-align: right;\">\n",
       "      <th></th>\n",
       "      <th>Age</th>\n",
       "      <th>Gender</th>\n",
       "      <th>Years at address</th>\n",
       "      <th>Employment status</th>\n",
       "      <th>Current debt</th>\n",
       "      <th>Income</th>\n",
       "      <th>Own home</th>\n",
       "      <th>CCJs</th>\n",
       "      <th>Loan amount</th>\n",
       "      <th>Outcome</th>\n",
       "    </tr>\n",
       "  </thead>\n",
       "  <tbody>\n",
       "    <tr>\n",
       "      <th>0</th>\n",
       "      <td>19</td>\n",
       "      <td>F</td>\n",
       "      <td>2</td>\n",
       "      <td>Unemployed</td>\n",
       "      <td>0</td>\n",
       "      <td>45500</td>\n",
       "      <td>Rent</td>\n",
       "      <td>1</td>\n",
       "      <td>13234</td>\n",
       "      <td>Paid</td>\n",
       "    </tr>\n",
       "    <tr>\n",
       "      <th>1</th>\n",
       "      <td>66</td>\n",
       "      <td>F</td>\n",
       "      <td>13</td>\n",
       "      <td>Unemployed</td>\n",
       "      <td>1080</td>\n",
       "      <td>18000</td>\n",
       "      <td>Own</td>\n",
       "      <td>0</td>\n",
       "      <td>5561</td>\n",
       "      <td>Paid</td>\n",
       "    </tr>\n",
       "    <tr>\n",
       "      <th>2</th>\n",
       "      <td>48</td>\n",
       "      <td>F</td>\n",
       "      <td>4</td>\n",
       "      <td>Self Employed</td>\n",
       "      <td>3690</td>\n",
       "      <td>47500</td>\n",
       "      <td>Rent</td>\n",
       "      <td>1</td>\n",
       "      <td>28288</td>\n",
       "      <td>Paid</td>\n",
       "    </tr>\n",
       "    <tr>\n",
       "      <th>3</th>\n",
       "      <td>67</td>\n",
       "      <td>F</td>\n",
       "      <td>47</td>\n",
       "      <td>Self Employed</td>\n",
       "      <td>6560</td>\n",
       "      <td>36000</td>\n",
       "      <td>Mortgage</td>\n",
       "      <td>0</td>\n",
       "      <td>30199</td>\n",
       "      <td>Paid</td>\n",
       "    </tr>\n",
       "    <tr>\n",
       "      <th>4</th>\n",
       "      <td>70</td>\n",
       "      <td>M</td>\n",
       "      <td>8</td>\n",
       "      <td>Self Employed</td>\n",
       "      <td>9100</td>\n",
       "      <td>50500</td>\n",
       "      <td>Own</td>\n",
       "      <td>0</td>\n",
       "      <td>35078</td>\n",
       "      <td>Paid</td>\n",
       "    </tr>\n",
       "    <tr>\n",
       "      <th>...</th>\n",
       "      <td>...</td>\n",
       "      <td>...</td>\n",
       "      <td>...</td>\n",
       "      <td>...</td>\n",
       "      <td>...</td>\n",
       "      <td>...</td>\n",
       "      <td>...</td>\n",
       "      <td>...</td>\n",
       "      <td>...</td>\n",
       "      <td>...</td>\n",
       "    </tr>\n",
       "    <tr>\n",
       "      <th>1995</th>\n",
       "      <td>60</td>\n",
       "      <td>F</td>\n",
       "      <td>4</td>\n",
       "      <td>Self Employed</td>\n",
       "      <td>2900</td>\n",
       "      <td>22500</td>\n",
       "      <td>Own</td>\n",
       "      <td>1</td>\n",
       "      <td>15725</td>\n",
       "      <td>Paid</td>\n",
       "    </tr>\n",
       "    <tr>\n",
       "      <th>1996</th>\n",
       "      <td>24</td>\n",
       "      <td>F</td>\n",
       "      <td>7</td>\n",
       "      <td>Self Employed</td>\n",
       "      <td>5130</td>\n",
       "      <td>38000</td>\n",
       "      <td>Own</td>\n",
       "      <td>0</td>\n",
       "      <td>35911</td>\n",
       "      <td>Paid</td>\n",
       "    </tr>\n",
       "    <tr>\n",
       "      <th>1997</th>\n",
       "      <td>34</td>\n",
       "      <td>M</td>\n",
       "      <td>5</td>\n",
       "      <td>Unemployed</td>\n",
       "      <td>6530</td>\n",
       "      <td>41500</td>\n",
       "      <td>Own</td>\n",
       "      <td>2</td>\n",
       "      <td>6874</td>\n",
       "      <td>Paid</td>\n",
       "    </tr>\n",
       "    <tr>\n",
       "      <th>1998</th>\n",
       "      <td>52</td>\n",
       "      <td>F</td>\n",
       "      <td>2</td>\n",
       "      <td>Employed</td>\n",
       "      <td>930</td>\n",
       "      <td>32500</td>\n",
       "      <td>Own</td>\n",
       "      <td>0</td>\n",
       "      <td>5412</td>\n",
       "      <td>Paid</td>\n",
       "    </tr>\n",
       "    <tr>\n",
       "      <th>1999</th>\n",
       "      <td>42</td>\n",
       "      <td>M</td>\n",
       "      <td>3</td>\n",
       "      <td>Self Employed</td>\n",
       "      <td>10</td>\n",
       "      <td>49000</td>\n",
       "      <td>Own</td>\n",
       "      <td>0</td>\n",
       "      <td>3835</td>\n",
       "      <td>Defaulted</td>\n",
       "    </tr>\n",
       "  </tbody>\n",
       "</table>\n",
       "<p>2000 rows × 10 columns</p>\n",
       "</div>"
      ],
      "text/plain": [
       "      Age Gender  Years at address Employment status  Current debt  Income  \\\n",
       "0      19      F                 2        Unemployed             0   45500   \n",
       "1      66      F                13        Unemployed          1080   18000   \n",
       "2      48      F                 4     Self Employed          3690   47500   \n",
       "3      67      F                47     Self Employed          6560   36000   \n",
       "4      70      M                 8     Self Employed          9100   50500   \n",
       "...   ...    ...               ...               ...           ...     ...   \n",
       "1995   60      F                 4     Self Employed          2900   22500   \n",
       "1996   24      F                 7     Self Employed          5130   38000   \n",
       "1997   34      M                 5        Unemployed          6530   41500   \n",
       "1998   52      F                 2          Employed           930   32500   \n",
       "1999   42      M                 3     Self Employed            10   49000   \n",
       "\n",
       "      Own home  CCJs  Loan amount    Outcome  \n",
       "0         Rent     1        13234       Paid  \n",
       "1          Own     0         5561       Paid  \n",
       "2         Rent     1        28288       Paid  \n",
       "3     Mortgage     0        30199       Paid  \n",
       "4          Own     0        35078       Paid  \n",
       "...        ...   ...          ...        ...  \n",
       "1995       Own     1        15725       Paid  \n",
       "1996       Own     0        35911       Paid  \n",
       "1997       Own     2         6874       Paid  \n",
       "1998       Own     0         5412       Paid  \n",
       "1999       Own     0         3835  Defaulted  \n",
       "\n",
       "[2000 rows x 10 columns]"
      ]
     },
     "execution_count": 171,
     "metadata": {},
     "output_type": "execute_result"
    }
   ],
   "source": [
    "# check for duplicates and drop them\n",
    "loanData.duplicated()\n",
    "loanData.drop_duplicates()"
   ]
  },
  {
   "cell_type": "code",
   "execution_count": 172,
   "id": "15fd51fb",
   "metadata": {},
   "outputs": [],
   "source": [
    "################################################################################################\n",
    "\n",
    "#     PLOT VARIABLES AND CHECK FOR MISTAKES\n",
    "#     REMOVE OUTLIERS OR CHANGE THEM\n",
    "\n",
    "################################################################################################"
   ]
  },
  {
   "cell_type": "code",
   "execution_count": 173,
   "id": "0ca1944b",
   "metadata": {},
   "outputs": [],
   "source": [
    "#########################################################\n",
    "\n",
    "#     GENDER COLUMN GRAPHING AND EXPLORATORY ANALYSIS\n",
    "\n",
    "#########################################################"
   ]
  },
  {
   "cell_type": "code",
   "execution_count": 174,
   "id": "5fad3159",
   "metadata": {},
   "outputs": [
    {
     "data": {
      "text/plain": [
       "<AxesSubplot:title={'center':'Gender counts'}>"
      ]
     },
     "execution_count": 174,
     "metadata": {},
     "output_type": "execute_result"
    },
    {
     "data": {
      "image/png": "[encoded data removed]",
      "text/plain": [
       "<Figure size 576x288 with 1 Axes>"
      ]
     },
     "metadata": {
      "needs_background": "light"
     },
     "output_type": "display_data"
    }
   ],
   "source": [
    "\n",
    "loanData['Gender'].value_counts(normalize=True).plot.bar(figsize=(8,4),title='Gender counts')\n"
   ]
  },
  {
   "cell_type": "code",
   "execution_count": 175,
   "id": "cb48edf2",
   "metadata": {
    "scrolled": true
   },
   "outputs": [
    {
     "data": {
      "text/plain": [
       "<AxesSubplot:title={'center':'Gender counts'}>"
      ]
     },
     "execution_count": 175,
     "metadata": {},
     "output_type": "execute_result"
    },
    {
     "data": {
      "image/png": "[encoded data removed]",
      "text/plain": [
       "<Figure size 576x288 with 1 Axes>"
      ]
     },
     "metadata": {
      "needs_background": "light"
     },
     "output_type": "display_data"
    }
   ],
   "source": [
    "\n",
    "###########     clean gender data    ###############\n",
    "\n",
    "loanData['Gender'].replace(['Female','Male','H','N','1','D','0'],['F','M','F','M','M','F','F'], inplace=True)\n",
    "loanData['Gender'].value_counts(normalize=True).plot.bar(figsize=(8,4),title='Gender counts')\n"
   ]
  },
  {
   "cell_type": "code",
   "execution_count": 176,
   "id": "9385ed09",
   "metadata": {},
   "outputs": [],
   "source": [
    "#########################################################\n",
    "#########################################################\n",
    "#########################################################\n",
    "\n"
   ]
  },
  {
   "cell_type": "code",
   "execution_count": 177,
   "id": "89538c24",
   "metadata": {},
   "outputs": [],
   "source": [
    "#################################################################\n",
    "\n",
    "#     EMPLOYMENT STATUS COLUMN GRAPHING AND EXPLORATORY ANALYSIS\n",
    "\n",
    "#################################################################"
   ]
  },
  {
   "cell_type": "code",
   "execution_count": 178,
   "id": "f93859c8",
   "metadata": {
    "scrolled": true
   },
   "outputs": [
    {
     "data": {
      "text/plain": [
       "<AxesSubplot:title={'center':'Employment status counts'}>"
      ]
     },
     "execution_count": 178,
     "metadata": {},
     "output_type": "execute_result"
    },
    {
     "data": {
      "image/png": "[encoded data removed]",
      "text/plain": [
       "<Figure size 576x288 with 1 Axes>"
      ]
     },
     "metadata": {
      "needs_background": "light"
     },
     "output_type": "display_data"
    }
   ],
   "source": [
    "\n",
    "###########     Employment status graphs    ###############\n",
    "emp=loanData[(loanData['Employment status']=='Retired')]\n",
    "#print(emp)\n",
    "\n",
    "loanData['Employment status'].value_counts(normalize=True).plot.bar(figsize=(8,4),title='Employment status counts')"
   ]
  },
  {
   "cell_type": "code",
   "execution_count": 179,
   "id": "2cc2dfe1",
   "metadata": {},
   "outputs": [
    {
     "data": {
      "text/plain": [
       "<AxesSubplot:title={'center':'Employment status counts'}>"
      ]
     },
     "execution_count": 179,
     "metadata": {},
     "output_type": "execute_result"
    },
    {
     "data": {
      "image/png": "[encoded data removed]",
      "text/plain": [
       "<Figure size 576x288 with 1 Axes>"
      ]
     },
     "metadata": {
      "needs_background": "light"
     },
     "output_type": "display_data"
    }
   ],
   "source": [
    "\n",
    "###########     clean employment status data    ###############\n",
    "\n",
    "loanData['Employment status'].replace(['Retired'],['Employed'], inplace=True)\n",
    "loanData['Employment status'].value_counts(normalize=True).plot.bar(figsize=(8,4),title='Employment status counts')"
   ]
  },
  {
   "cell_type": "code",
   "execution_count": 180,
   "id": "65580775",
   "metadata": {},
   "outputs": [],
   "source": [
    "#################################################################\n",
    "#################################################################\n",
    "#################################################################\n",
    "\n",
    "\n"
   ]
  },
  {
   "cell_type": "code",
   "execution_count": 181,
   "id": "b0d46c5f",
   "metadata": {},
   "outputs": [],
   "source": [
    "#################################################################\n",
    "\n",
    "#     OWN HOMES COLUMN GRAPHING AND EXPLORATORY ANALYSIS\n",
    "\n",
    "#################################################################"
   ]
  },
  {
   "cell_type": "code",
   "execution_count": 182,
   "id": "6042f362",
   "metadata": {
    "scrolled": false
   },
   "outputs": [
    {
     "data": {
      "text/plain": [
       "<AxesSubplot:title={'center':'Own home counts'}>"
      ]
     },
     "execution_count": 182,
     "metadata": {},
     "output_type": "execute_result"
    },
    {
     "data": {
      "image/png": "[encoded data removed]",
      "text/plain": [
       "<Figure size 576x288 with 1 Axes>"
      ]
     },
     "metadata": {
      "needs_background": "light"
     },
     "output_type": "display_data"
    }
   ],
   "source": [
    "\n",
    "###########     Own homes graphs    ###############\n",
    "\n",
    "loanData['Own home'].value_counts(normalize=True).plot.bar(figsize=(8,4),title='Own home counts')\n"
   ]
  },
  {
   "cell_type": "code",
   "execution_count": 183,
   "id": "e17b638a",
   "metadata": {},
   "outputs": [],
   "source": [
    "#################################################################\n",
    "#################################################################\n",
    "#################################################################\n",
    "\n",
    "\n"
   ]
  },
  {
   "cell_type": "code",
   "execution_count": 184,
   "id": "f74226d7",
   "metadata": {},
   "outputs": [],
   "source": [
    "#################################################################\n",
    "\n",
    "#     OUTCOME COLUMN GRAPHING AND EXPLORATORY ANALYSIS\n",
    "\n",
    "#################################################################"
   ]
  },
  {
   "cell_type": "code",
   "execution_count": 185,
   "id": "3d6bca0b",
   "metadata": {},
   "outputs": [
    {
     "data": {
      "text/plain": [
       "<AxesSubplot:title={'center':'Outcome counts'}>"
      ]
     },
     "execution_count": 185,
     "metadata": {},
     "output_type": "execute_result"
    },
    {
     "data": {
      "image/png": "[encoded data removed]",
      "text/plain": [
       "<Figure size 576x360 with 1 Axes>"
      ]
     },
     "metadata": {
      "needs_background": "light"
     },
     "output_type": "display_data"
    }
   ],
   "source": [
    "\n",
    "###########     Loan Outcome graphs    ###############\n",
    "\n",
    "loanData['Outcome'].value_counts(normalize=True).plot.bar(figsize=(8,5),title='Outcome counts')\n"
   ]
  },
  {
   "cell_type": "code",
   "execution_count": 186,
   "id": "b6e918fa",
   "metadata": {},
   "outputs": [],
   "source": [
    "#################################################################\n",
    "#################################################################\n",
    "#################################################################\n",
    "\n"
   ]
  },
  {
   "cell_type": "code",
   "execution_count": 187,
   "id": "0e44f468",
   "metadata": {},
   "outputs": [],
   "source": [
    "#################################################################\n",
    "\n",
    "#     AGE GRAPHING AND EXPLORATORY ANALYSIS\n",
    "\n",
    "#################################################################"
   ]
  },
  {
   "cell_type": "code",
   "execution_count": 188,
   "id": "e472beb1",
   "metadata": {},
   "outputs": [
    {
     "data": {
      "image/png": "[encoded data removed]",
      "text/plain": [
       "<Figure size 360x360 with 1 Axes>"
      ]
     },
     "metadata": {
      "needs_background": "light"
     },
     "output_type": "display_data"
    },
    {
     "data": {
      "image/png": "[encoded data removed]",
      "text/plain": [
       "<Figure size 576x360 with 1 Axes>"
      ]
     },
     "metadata": {
      "needs_background": "light"
     },
     "output_type": "display_data"
    }
   ],
   "source": [
    "sns.displot(loanData['Age'])\n",
    "plt.show()\n",
    "loanData['Age'].plot.box(figsize=(8,5))\n",
    "plt.show()"
   ]
  },
  {
   "cell_type": "code",
   "execution_count": 189,
   "id": "52ed7905",
   "metadata": {},
   "outputs": [],
   "source": [
    "#################################################################\n",
    "#################################################################\n",
    "#################################################################\n",
    "\n"
   ]
  },
  {
   "cell_type": "code",
   "execution_count": 190,
   "id": "597058ba",
   "metadata": {},
   "outputs": [],
   "source": [
    "#################################################################\n",
    "\n",
    "#     YEARS AT ADDRESS GRAPHING AND EXPLORATORY ANALYSIS\n",
    "\n",
    "#################################################################"
   ]
  },
  {
   "cell_type": "code",
   "execution_count": 191,
   "id": "a63608a2",
   "metadata": {
    "scrolled": true
   },
   "outputs": [
    {
     "data": {
      "image/png": "[encoded data removed]",
      "text/plain": [
       "<Figure size 360x360 with 1 Axes>"
      ]
     },
     "metadata": {
      "needs_background": "light"
     },
     "output_type": "display_data"
    },
    {
     "data": {
      "image/png": "[encoded data removed]",
      "text/plain": [
       "<Figure size 576x360 with 1 Axes>"
      ]
     },
     "metadata": {
      "needs_background": "light"
     },
     "output_type": "display_data"
    }
   ],
   "source": [
    "#   plot initial graphs\n",
    "\n",
    "sns.displot(loanData['Years at address'])\n",
    "plt.show()\n",
    "loanData['Years at address'].plot.box(figsize=(8,5))\n",
    "plt.show()"
   ]
  },
  {
   "cell_type": "code",
   "execution_count": 194,
   "id": "3e907db6",
   "metadata": {
    "scrolled": true
   },
   "outputs": [],
   "source": [
    "#####  THIS SECTION WAS RUN TWICE !!!!  #####\n",
    "\n",
    "# find upper and lower bound\n",
    "\n",
    "q3,q1=np.percentile(np.array(loanData['Years at address']),[75,25])\n",
    "# print(q3,q1)\n",
    "intrQuartRange=q3-q1\n",
    "# print(intrQuartRange)\n",
    "upperBound=q3+(1.5*intrQuartRange)\n",
    "lowerBound=q1-(1.5*intrQuartRange)\n",
    "\n",
    "loanData.loc[loanData['Years at address']>upperBound,'Years at address']=np.nan\n",
    "loanData.loc[loanData['Years at address']<lowerBound,'Years at address']=np.nan\n",
    "\n",
    "# confirm null values added\n",
    "# print(loanData.isnull().sum())\n",
    "\n",
    "# find mean\n",
    "mean = math.floor(loanData['Years at address'].mean())\n",
    "\n",
    "# replace null values with mean\n",
    "\n",
    "loanData['Years at address'].fillna(mean,inplace=True)\n",
    "# print(loanData.isnull().sum())\n",
    "\n",
    "\n"
   ]
  },
  {
   "cell_type": "code",
   "execution_count": 195,
   "id": "450a3987",
   "metadata": {},
   "outputs": [
    {
     "data": {
      "image/png": "[encoded data removed]",
      "text/plain": [
       "<Figure size 360x360 with 1 Axes>"
      ]
     },
     "metadata": {
      "needs_background": "light"
     },
     "output_type": "display_data"
    },
    {
     "data": {
      "image/png": "[encoded data removed]",
      "text/plain": [
       "<Figure size 576x360 with 1 Axes>"
      ]
     },
     "metadata": {
      "needs_background": "light"
     },
     "output_type": "display_data"
    }
   ],
   "source": [
    "#   plot graphs with outliers removed\n",
    "\n",
    "sns.displot(loanData['Years at address'])\n",
    "plt.show()\n",
    "loanData['Years at address'].plot.box(figsize=(8,5))\n",
    "plt.show()"
   ]
  },
  {
   "cell_type": "code",
   "execution_count": null,
   "id": "df5e8644",
   "metadata": {},
   "outputs": [],
   "source": [
    "#################################################################\n",
    "#################################################################\n",
    "#################################################################\n",
    "\n"
   ]
  },
  {
   "cell_type": "code",
   "execution_count": null,
   "id": "102cf361",
   "metadata": {},
   "outputs": [],
   "source": [
    "#################################################################\n",
    "\n",
    "#     CURRENT DEBT GRAPHING AND EXPLORATORY ANALYSIS\n",
    "\n",
    "#################################################################"
   ]
  },
  {
   "cell_type": "code",
   "execution_count": 196,
   "id": "5c8b700b",
   "metadata": {},
   "outputs": [
    {
     "data": {
      "image/png": "[encoded data removed]",
      "text/plain": [
       "<Figure size 360x360 with 1 Axes>"
      ]
     },
     "metadata": {
      "needs_background": "light"
     },
     "output_type": "display_data"
    },
    {
     "data": {
      "image/png": "[encoded data removed]",
      "text/plain": [
       "<Figure size 576x360 with 1 Axes>"
      ]
     },
     "metadata": {
      "needs_background": "light"
     },
     "output_type": "display_data"
    }
   ],
   "source": [
    "sns.displot(loanData['Current debt'])\n",
    "plt.show()\n",
    "loanData['Current debt'].plot.box(figsize=(8,5))\n",
    "plt.show()"
   ]
  },
  {
   "cell_type": "code",
   "execution_count": null,
   "id": "d4ef822b",
   "metadata": {},
   "outputs": [],
   "source": [
    "#################################################################\n",
    "#################################################################\n",
    "#################################################################"
   ]
  },
  {
   "cell_type": "code",
   "execution_count": null,
   "id": "8466e11e",
   "metadata": {},
   "outputs": [],
   "source": [
    "#################################################################\n",
    "\n",
    "#     INCOME GRAPHING AND EXPLORATORY ANALYSIS\n",
    "\n",
    "#################################################################"
   ]
  },
  {
   "cell_type": "code",
   "execution_count": 197,
   "id": "27fe7816",
   "metadata": {},
   "outputs": [
    {
     "data": {
      "image/png": "[encoded data removed]",
      "text/plain": [
       "<Figure size 360x360 with 1 Axes>"
      ]
     },
     "metadata": {
      "needs_background": "light"
     },
     "output_type": "display_data"
    },
    {
     "data": {
      "image/png": "[encoded data removed]",
      "text/plain": [
       "<Figure size 576x360 with 1 Axes>"
      ]
     },
     "metadata": {
      "needs_background": "light"
     },
     "output_type": "display_data"
    }
   ],
   "source": [
    "\n",
    "sns.displot(loanData['Income'])\n",
    "plt.show()\n",
    "loanData['Income'].plot.box(figsize=(8,5))\n",
    "plt.show()"
   ]
  },
  {
   "cell_type": "code",
   "execution_count": null,
   "id": "ca41cde3",
   "metadata": {},
   "outputs": [],
   "source": [
    "#################################################################\n",
    "#################################################################\n",
    "#################################################################"
   ]
  },
  {
   "cell_type": "code",
   "execution_count": null,
   "id": "073cb07d",
   "metadata": {},
   "outputs": [],
   "source": []
  },
  {
   "cell_type": "code",
   "execution_count": null,
   "id": "5c4a2e93",
   "metadata": {},
   "outputs": [],
   "source": []
  },
  {
   "cell_type": "code",
   "execution_count": 52,
   "id": "e8725f30",
   "metadata": {},
   "outputs": [],
   "source": [
    "# preprocess data. Convert strings to usable values\n",
    "\n",
    "le = preprocessing.LabelEncoder()\n",
    "loanData=loanData.apply(le.fit_transform)"
   ]
  },
  {
   "cell_type": "code",
   "execution_count": 86,
   "id": "c180df46",
   "metadata": {
    "scrolled": true
   },
   "outputs": [],
   "source": [
    "# remove unnecessary columns\n",
    "\n",
    "X=loanData.drop(columns=['Outcome','Fictional Surname','Country'])\n",
    "y=loanData['Outcome']\n",
    "\n",
    "# split data into training and testing sets\n",
    "X_train, X_test, y_train, y_test = train_test_split(X,y,test_size=0.7)\n"
   ]
  },
  {
   "cell_type": "code",
   "execution_count": 54,
   "id": "6ff3d8c1",
   "metadata": {},
   "outputs": [],
   "source": [
    "# setup model\n",
    "\n",
    "model=DecisionTreeClassifier()"
   ]
  },
  {
   "cell_type": "code",
   "execution_count": 55,
   "id": "7c77c4b7",
   "metadata": {},
   "outputs": [
    {
     "data": {
      "text/plain": [
       "DecisionTreeClassifier()"
      ]
     },
     "execution_count": 55,
     "metadata": {},
     "output_type": "execute_result"
    }
   ],
   "source": [
    "# train model\n",
    "model.fit(X_train,y_train)"
   ]
  },
  {
   "cell_type": "code",
   "execution_count": 97,
   "id": "671f6d4c",
   "metadata": {},
   "outputs": [
    {
     "name": "stdout",
     "output_type": "stream",
     "text": [
      "0.9242857142857143\n",
      "[1 1 0 1 1 0 0 0 1 0]\n",
      "91      1\n",
      "0       1\n",
      "48      1\n",
      "979     1\n",
      "20      1\n",
      "1488    0\n",
      "1079    0\n",
      "1178    1\n",
      "1261    1\n",
      "528     0\n",
      "Name: Outcome, dtype: int64\n"
     ]
    }
   ],
   "source": [
    "# predict using model\n",
    "\n",
    "predictions = model.predict(X_test)\n",
    "\n",
    "score = accuracy_score(y_test, predictions)\n",
    "print(score)\n",
    "print(predictions[:10])\n",
    "print(y_test[:10])"
   ]
  },
  {
   "cell_type": "code",
   "execution_count": null,
   "id": "4bc65261",
   "metadata": {},
   "outputs": [],
   "source": []
  }
 ],
 "metadata": {
  "kernelspec": {
   "display_name": "Python 3 (ipykernel)",
   "language": "python",
   "name": "python3"
  },
  "language_info": {
   "codemirror_mode": {
    "name": "ipython",
    "version": 3
   },
   "file_extension": ".py",
   "mimetype": "text/x-python",
   "name": "python",
   "nbconvert_exporter": "python",
   "pygments_lexer": "ipython3",
   "version": "3.8.5"
  }
 },
 "nbformat": 4,
 "nbformat_minor": 5
}
